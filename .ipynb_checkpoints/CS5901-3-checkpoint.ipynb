{
 "cells": [
  {
   "cell_type": "markdown",
   "id": "fc1d362f-ee93-45ee-8420-8c3b78f7a63a",
   "metadata": {},
   "source": [
    "## Numpy"
   ]
  },
  {
   "cell_type": "code",
   "execution_count": 1,
   "id": "11a23beb-aaa4-4bcc-a3cb-53fabd86b588",
   "metadata": {},
   "outputs": [
    {
     "name": "stdout",
     "output_type": "stream",
     "text": [
      "<module 'numpy' from 'C:\\\\Python311\\\\Lib\\\\site-packages\\\\numpy\\\\__init__.py'>\n"
     ]
    }
   ],
   "source": [
    "import numpy as np\n",
    "\n",
    "arr = np.array([[1,2,3],[4,5,3]])\n",
    "print(np)\n"
   ]
  },
  {
   "cell_type": "code",
   "execution_count": 2,
   "id": "9f92cc73-f0b8-45b0-80ca-a623a5ba4e51",
   "metadata": {},
   "outputs": [
    {
     "name": "stdout",
     "output_type": "stream",
     "text": [
      "2\n",
      "(2, 3)\n",
      "6\n",
      "int32\n",
      "4\n",
      "<memory at 0x0000022B2F75B510>\n"
     ]
    }
   ],
   "source": [
    "print(arr.ndim)\n",
    "print(arr.shape)\n",
    "print(arr.size)\n",
    "print(arr.dtype)\n",
    "print(arr.itemsize)\n",
    "print(arr.data)"
   ]
  },
  {
   "cell_type": "code",
   "execution_count": 3,
   "id": "958e09b4-e133-4426-ac71-06fa57782e16",
   "metadata": {},
   "outputs": [
    {
     "name": "stdout",
     "output_type": "stream",
     "text": [
      "[[1 2 3]\n",
      " [4 5 3]]\n",
      "int16\n"
     ]
    }
   ],
   "source": [
    "arr = np.array([[1,2,3],[4,5,3]], dtype=np.int16)  # set the data types\n",
    "print(arr)\n",
    "print(arr.dtype)"
   ]
  },
  {
   "cell_type": "code",
   "execution_count": 4,
   "id": "6d692a04-9557-43a3-8962-44d70303b0a5",
   "metadata": {},
   "outputs": [
    {
     "name": "stdout",
     "output_type": "stream",
     "text": [
      "[[1 2 3]]\n",
      "[[4]\n",
      " [5]\n",
      " [6]]\n"
     ]
    }
   ],
   "source": [
    "row = np.array([1,2,3])\n",
    "explicit_row = np.array([[1,2,3]])\n",
    "explicit_col = np.array([[4],[5],[6]])\n",
    "print(explicit_row)\n",
    "print(explicit_col)\n"
   ]
  },
  {
   "cell_type": "code",
   "execution_count": 5,
   "id": "e119f2a4-3478-46d1-b058-152a689d6cbd",
   "metadata": {},
   "outputs": [
    {
     "data": {
      "text/plain": [
       "array([[55, 55],\n",
       "       [55, 55],\n",
       "       [55, 55]])"
      ]
     },
     "execution_count": 5,
     "metadata": {},
     "output_type": "execute_result"
    }
   ],
   "source": [
    "np.ones((2,2))\n",
    "np.zeros((2,2))\n",
    "np.full((3,2), 55)"
   ]
  },
  {
   "cell_type": "code",
   "execution_count": 6,
   "id": "bd70d805-2b19-4062-96d9-a5ae00b66bea",
   "metadata": {},
   "outputs": [
    {
     "data": {
      "text/plain": [
       "array([ 0., 11., 22., 33., 44., 55., 66., 77., 88., 99.])"
      ]
     },
     "execution_count": 6,
     "metadata": {},
     "output_type": "execute_result"
    }
   ],
   "source": [
    "np.linspace(0,99, num=10)"
   ]
  },
  {
   "cell_type": "code",
   "execution_count": 7,
   "id": "26972831-d36e-468b-bca7-7064f1c0f16c",
   "metadata": {},
   "outputs": [
    {
     "data": {
      "text/plain": [
       "array([ 0,  5, 10, 15, 20, 25, 30, 35, 40, 45, 50, 55, 60, 65, 70, 75, 80,\n",
       "       85, 90, 95])"
      ]
     },
     "execution_count": 7,
     "metadata": {},
     "output_type": "execute_result"
    }
   ],
   "source": [
    "np.arange(0, 99, 5)"
   ]
  },
  {
   "cell_type": "code",
   "execution_count": 8,
   "id": "ff2a1d94-fc42-4dd9-9a21-d851036dd8c8",
   "metadata": {},
   "outputs": [],
   "source": [
    "#np.add\n",
    "#np.subtract\n",
    "#np.mutiply\n",
    "#np.divide"
   ]
  },
  {
   "cell_type": "code",
   "execution_count": 9,
   "id": "b0aac6bf-6039-4bcf-927b-ed61056a0d68",
   "metadata": {},
   "outputs": [
    {
     "name": "stdout",
     "output_type": "stream",
     "text": [
      "3.5\n",
      "1.707825127659933\n",
      "1\n",
      "6\n"
     ]
    }
   ],
   "source": [
    "\n",
    "arr = np.array([[1,2,3],[4,5,6]])\n",
    "print(np.mean(arr))\n",
    "print(np.std(arr))\n",
    "print(np.min(arr))\n",
    "print(np.max(arr))"
   ]
  },
  {
   "cell_type": "code",
   "execution_count": 10,
   "id": "eccd27e0-de57-48fe-9a36-8d909d17dbbd",
   "metadata": {},
   "outputs": [
    {
     "data": {
      "text/plain": [
       "(3, 2)"
      ]
     },
     "execution_count": 10,
     "metadata": {},
     "output_type": "execute_result"
    }
   ],
   "source": [
    "arr.T.shape # transpose the array"
   ]
  },
  {
   "cell_type": "code",
   "execution_count": 11,
   "id": "a81a1b3f-9705-46d8-80a9-761db7635982",
   "metadata": {},
   "outputs": [
    {
     "data": {
      "text/plain": [
       "array([[1, 2, 3, 4, 5, 6]])"
      ]
     },
     "execution_count": 11,
     "metadata": {},
     "output_type": "execute_result"
    }
   ],
   "source": [
    "np.reshape(arr,(1,6))"
   ]
  },
  {
   "cell_type": "code",
   "execution_count": 12,
   "id": "cc910a29-63ab-42e7-a90a-27234ed65017",
   "metadata": {},
   "outputs": [],
   "source": [
    "# np.save np.load"
   ]
  },
  {
   "cell_type": "markdown",
   "id": "0814a965-81e0-4f1d-899f-4e4c25a26651",
   "metadata": {},
   "source": [
    "## pandas"
   ]
  },
  {
   "cell_type": "code",
   "execution_count": 13,
   "id": "e9f4f191-b285-4e4b-9fdc-cf87f5bc6866",
   "metadata": {},
   "outputs": [
    {
     "data": {
      "text/plain": [
       "0    a\n",
       "1    b\n",
       "2    c\n",
       "3    c\n",
       "dtype: object"
      ]
     },
     "execution_count": 13,
     "metadata": {},
     "output_type": "execute_result"
    }
   ],
   "source": [
    "import pandas as pd\n",
    "pd.Series(['a','b','c','c'])"
   ]
  },
  {
   "cell_type": "code",
   "execution_count": 14,
   "id": "c9d471ef-7a7a-46d8-b76f-258de685a731",
   "metadata": {},
   "outputs": [],
   "source": [
    "s = pd.Series(['a','b','c','c'],\n",
    "         index=['r1','r2','r3','r4']\n",
    "         )"
   ]
  },
  {
   "cell_type": "code",
   "execution_count": 15,
   "id": "00bd584d-3807-46ad-be81-ad4c71d068a1",
   "metadata": {},
   "outputs": [
    {
     "data": {
      "text/plain": [
       "'a'"
      ]
     },
     "execution_count": 15,
     "metadata": {},
     "output_type": "execute_result"
    }
   ],
   "source": [
    "s.loc['r1']"
   ]
  },
  {
   "cell_type": "code",
   "execution_count": 16,
   "id": "e6430838-038d-4dbe-a5b7-453434597c75",
   "metadata": {},
   "outputs": [
    {
     "data": {
      "text/plain": [
       "'b'"
      ]
     },
     "execution_count": 16,
     "metadata": {},
     "output_type": "execute_result"
    }
   ],
   "source": [
    "s.iloc[1]"
   ]
  },
  {
   "cell_type": "code",
   "execution_count": 17,
   "id": "6be7242f-b772-4a94-8690-7b5eb636f293",
   "metadata": {},
   "outputs": [
    {
     "data": {
      "text/html": [
       "<div>\n",
       "<style scoped>\n",
       "    .dataframe tbody tr th:only-of-type {\n",
       "        vertical-align: middle;\n",
       "    }\n",
       "\n",
       "    .dataframe tbody tr th {\n",
       "        vertical-align: top;\n",
       "    }\n",
       "\n",
       "    .dataframe thead th {\n",
       "        text-align: right;\n",
       "    }\n",
       "</style>\n",
       "<table border=\"1\" class=\"dataframe\">\n",
       "  <thead>\n",
       "    <tr style=\"text-align: right;\">\n",
       "      <th></th>\n",
       "      <th>name</th>\n",
       "      <th>inst</th>\n",
       "      <th>a</th>\n",
       "    </tr>\n",
       "  </thead>\n",
       "  <tbody>\n",
       "    <tr>\n",
       "      <th>0</th>\n",
       "      <td>a</td>\n",
       "      <td>1a</td>\n",
       "      <td>12</td>\n",
       "    </tr>\n",
       "    <tr>\n",
       "      <th>1</th>\n",
       "      <td>b</td>\n",
       "      <td>2d</td>\n",
       "      <td>1</td>\n",
       "    </tr>\n",
       "    <tr>\n",
       "      <th>2</th>\n",
       "      <td>s</td>\n",
       "      <td>3d</td>\n",
       "      <td>44</td>\n",
       "    </tr>\n",
       "  </tbody>\n",
       "</table>\n",
       "</div>"
      ],
      "text/plain": [
       "  name inst   a\n",
       "0    a   1a  12\n",
       "1    b   2d   1\n",
       "2    s   3d  44"
      ]
     },
     "execution_count": 17,
     "metadata": {},
     "output_type": "execute_result"
    }
   ],
   "source": [
    "p_name = pd.DataFrame({\n",
    "    \"name\": [\"a\",\"b\",\"s\"],\n",
    "    \"inst\": [\"1a\",\"2d\",\"3d\"],\n",
    "    \"a\": [12,1,44]\n",
    "})\n",
    "p_name"
   ]
  },
  {
   "cell_type": "code",
   "execution_count": 18,
   "id": "f5285082-4b44-418f-90f8-b98fbf2203ff",
   "metadata": {},
   "outputs": [],
   "source": [
    "band = pd.DataFrame(columns=['name','int','age'])"
   ]
  },
  {
   "cell_type": "code",
   "execution_count": 19,
   "id": "04962ac1-0f18-41db-8a52-e4ff517c5ca4",
   "metadata": {},
   "outputs": [
    {
     "data": {
      "text/html": [
       "<div>\n",
       "<style scoped>\n",
       "    .dataframe tbody tr th:only-of-type {\n",
       "        vertical-align: middle;\n",
       "    }\n",
       "\n",
       "    .dataframe tbody tr th {\n",
       "        vertical-align: top;\n",
       "    }\n",
       "\n",
       "    .dataframe thead th {\n",
       "        text-align: right;\n",
       "    }\n",
       "</style>\n",
       "<table border=\"1\" class=\"dataframe\">\n",
       "  <thead>\n",
       "    <tr style=\"text-align: right;\">\n",
       "      <th></th>\n",
       "      <th>name</th>\n",
       "      <th>int</th>\n",
       "      <th>age</th>\n",
       "    </tr>\n",
       "  </thead>\n",
       "  <tbody>\n",
       "  </tbody>\n",
       "</table>\n",
       "</div>"
      ],
      "text/plain": [
       "Empty DataFrame\n",
       "Columns: [name, int, age]\n",
       "Index: []"
      ]
     },
     "execution_count": 19,
     "metadata": {},
     "output_type": "execute_result"
    }
   ],
   "source": [
    "band"
   ]
  },
  {
   "cell_type": "code",
   "execution_count": 20,
   "id": "313f89b2-4298-49ec-b8ed-2291a5e3b1d8",
   "metadata": {},
   "outputs": [
    {
     "data": {
      "text/plain": [
       "Index(['name', 'int', 'age'], dtype='object')"
      ]
     },
     "execution_count": 20,
     "metadata": {},
     "output_type": "execute_result"
    }
   ],
   "source": [
    "band.columns"
   ]
  },
  {
   "cell_type": "code",
   "execution_count": 21,
   "id": "8c5522de-4f99-4a8b-9740-6ba6a4766c38",
   "metadata": {},
   "outputs": [
    {
     "data": {
      "text/html": [
       "<div>\n",
       "<style scoped>\n",
       "    .dataframe tbody tr th:only-of-type {\n",
       "        vertical-align: middle;\n",
       "    }\n",
       "\n",
       "    .dataframe tbody tr th {\n",
       "        vertical-align: top;\n",
       "    }\n",
       "\n",
       "    .dataframe thead th {\n",
       "        text-align: right;\n",
       "    }\n",
       "</style>\n",
       "<table border=\"1\" class=\"dataframe\">\n",
       "  <thead>\n",
       "    <tr style=\"text-align: right;\">\n",
       "      <th></th>\n",
       "      <th>name</th>\n",
       "      <th>inst</th>\n",
       "      <th>a</th>\n",
       "    </tr>\n",
       "  </thead>\n",
       "  <tbody>\n",
       "    <tr>\n",
       "      <th>0</th>\n",
       "      <td>a</td>\n",
       "      <td>1a</td>\n",
       "      <td>12</td>\n",
       "    </tr>\n",
       "  </tbody>\n",
       "</table>\n",
       "</div>"
      ],
      "text/plain": [
       "  name inst   a\n",
       "0    a   1a  12"
      ]
     },
     "execution_count": 21,
     "metadata": {},
     "output_type": "execute_result"
    }
   ],
   "source": [
    "p_name.head(1)"
   ]
  },
  {
   "cell_type": "code",
   "execution_count": 22,
   "id": "b3d48de6-179a-4742-8ddd-ed79b928dbaf",
   "metadata": {},
   "outputs": [
    {
     "data": {
      "text/html": [
       "<div>\n",
       "<style scoped>\n",
       "    .dataframe tbody tr th:only-of-type {\n",
       "        vertical-align: middle;\n",
       "    }\n",
       "\n",
       "    .dataframe tbody tr th {\n",
       "        vertical-align: top;\n",
       "    }\n",
       "\n",
       "    .dataframe thead th {\n",
       "        text-align: right;\n",
       "    }\n",
       "</style>\n",
       "<table border=\"1\" class=\"dataframe\">\n",
       "  <thead>\n",
       "    <tr style=\"text-align: right;\">\n",
       "      <th></th>\n",
       "      <th>name</th>\n",
       "      <th>inst</th>\n",
       "      <th>a</th>\n",
       "    </tr>\n",
       "  </thead>\n",
       "  <tbody>\n",
       "    <tr>\n",
       "      <th>0</th>\n",
       "      <td>a</td>\n",
       "      <td>1a</td>\n",
       "      <td>12</td>\n",
       "    </tr>\n",
       "    <tr>\n",
       "      <th>2</th>\n",
       "      <td>s</td>\n",
       "      <td>3d</td>\n",
       "      <td>44</td>\n",
       "    </tr>\n",
       "  </tbody>\n",
       "</table>\n",
       "</div>"
      ],
      "text/plain": [
       "  name inst   a\n",
       "0    a   1a  12\n",
       "2    s   3d  44"
      ]
     },
     "execution_count": 22,
     "metadata": {},
     "output_type": "execute_result"
    }
   ],
   "source": [
    "predicate = p_name['a'] > 3\n",
    "over_3 = p_name[predicate]\n",
    "over_3"
   ]
  },
  {
   "cell_type": "code",
   "execution_count": 23,
   "id": "f7f0eeb8-6ed3-4d97-803c-3354bef072f5",
   "metadata": {},
   "outputs": [],
   "source": [
    "## widgets\n",
    "\n",
    "# sliders\n",
    "# checkboxes\n",
    "\n",
    "\n"
   ]
  },
  {
   "cell_type": "code",
   "execution_count": 24,
   "id": "58f15ad8-d5dc-407f-8a76-be0b8e36bee5",
   "metadata": {},
   "outputs": [
    {
     "data": {
      "application/vnd.jupyter.widget-view+json": {
       "model_id": "291b11ce834447f3961eb5d85dd048e7",
       "version_major": 2,
       "version_minor": 0
      },
      "text/plain": [
       "interactive(children=(IntSlider(value=11, description='n', max=20, min=2), FloatSlider(value=0.5, description=…"
      ]
     },
     "metadata": {},
     "output_type": "display_data"
    }
   ],
   "source": [
    "%matplotlib inline\n",
    "import matplotlib.pyplot as plt\n",
    "from ipywidgets import interact, interactive\n",
    "import ipywidgets as widgets\n",
    "import networkx as nx\n",
    "\n",
    "# interact(f, x=widgets.IntSlider(min=-10, max=30, step=1, value=10));\n",
    "\n",
    "def plot_random_binomial_graph(n, p, generator, layout):\n",
    "    g = generator(n, p)\n",
    "    pos = layout(g)\n",
    "    nx.draw(g, pos=pos)\n",
    "    plt.show()\n",
    "\n",
    "interact(plot_random_binomial_graph, n=(2,20), p=(0.0, 1.0, 0.001),\n",
    "         generator={'fast': nx.fast_gnp_random_graph, 'standard': nx.gnp_random_graph}, \n",
    "         layout={'shell_layout':nx.shell_layout, 'spring_layout': nx.spring_layout});"
   ]
  },
  {
   "cell_type": "code",
   "execution_count": 25,
   "id": "008c6b7c-2ca8-467b-a5fb-8fd318974d7d",
   "metadata": {},
   "outputs": [
    {
     "data": {
      "application/vnd.jupyter.widget-view+json": {
       "model_id": "c36533ad4fad4f86a26dd89e0974da0d",
       "version_major": 2,
       "version_minor": 0
      },
      "text/plain": [
       "interactive(children=(IntSlider(value=10, description='x', max=30, min=-10), Output()), _dom_classes=('widget-…"
      ]
     },
     "metadata": {},
     "output_type": "display_data"
    }
   ],
   "source": [
    "def f(x):\n",
    "    return x\n",
    "\n",
    "interact(f, x=10);"
   ]
  },
  {
   "cell_type": "code",
   "execution_count": null,
   "id": "b147b268-8b85-4bc7-a7ad-a45f1ef964ad",
   "metadata": {},
   "outputs": [],
   "source": []
  },
  {
   "cell_type": "code",
   "execution_count": 26,
   "id": "38b58e26-ec42-4b33-8f58-bfc17789ecae",
   "metadata": {},
   "outputs": [],
   "source": [
    "    #interact(plot_random_binomial_graph, g = gf , layout={'shell_layout':nx.shell_layout, 'spring_layout': nx.spring_layout});"
   ]
  },
  {
   "cell_type": "code",
   "execution_count": null,
   "id": "206012a9-0714-43cf-8d58-561c5e40f5e9",
   "metadata": {},
   "outputs": [],
   "source": []
  },
  {
   "cell_type": "code",
   "execution_count": null,
   "id": "f3e93951-a562-4ee1-865d-ac928323b15f",
   "metadata": {},
   "outputs": [],
   "source": []
  },
  {
   "cell_type": "code",
   "execution_count": 45,
   "id": "b5615b76-dd20-45a2-b910-ae8e8b35c4c9",
   "metadata": {},
   "outputs": [
    {
     "data": {
      "application/vnd.jupyter.widget-view+json": {
       "model_id": "5ee202cbee194af68e0803396fc15d07",
       "version_major": 2,
       "version_minor": 0
      },
      "text/plain": [
       "Dropdown(description='layout:', options=(('shell_layout', 'nx.shell_layout'), ('spring_layout', 'nx.spring_lay…"
      ]
     },
     "metadata": {},
     "output_type": "display_data"
    },
    {
     "data": {
      "application/vnd.jupyter.widget-view+json": {
       "model_id": "f83b69c84db74c1ba83cee2192166970",
       "version_major": 2,
       "version_minor": 0
      },
      "text/plain": [
       "interactive(children=(IntSlider(value=10, description='n', max=20, min=2), FloatSlider(value=0.5, description=…"
      ]
     },
     "metadata": {},
     "output_type": "display_data"
    },
    {
     "data": {
      "application/vnd.jupyter.widget-view+json": {
       "model_id": "53e180af25f24406a46a7a33504cd090",
       "version_major": 2,
       "version_minor": 0
      },
      "text/plain": [
       "Output()"
      ]
     },
     "metadata": {},
     "output_type": "display_data"
    },
    {
     "data": {
      "application/vnd.jupyter.widget-view+json": {
       "model_id": "7330eb931b0d41389c1247ca7aba975a",
       "version_major": 2,
       "version_minor": 0
      },
      "text/plain": [
       "Button(description='Gen!', style=ButtonStyle())"
      ]
     },
     "metadata": {},
     "output_type": "display_data"
    }
   ],
   "source": [
    "%matplotlib inline\n",
    "import matplotlib.pyplot as plt\n",
    "from ipywidgets import interact, interactive, fixed\n",
    "import ipywidgets as widgets\n",
    "import networkx as nx\n",
    "from IPython.display import display\n",
    "\n",
    "output = widgets.Output()\n",
    "n = widgets.IntSlider(min = 2, max =20, value=10)\n",
    "\n",
    "\n",
    "p = widgets.FloatSlider(min = 0.0, max =1.0, step=0.001, value=0.5)\n",
    "#\n",
    "\n",
    "g = widgets.Dropdown( \n",
    "    options=[('fast', nx.fast_gnp_random_graph), ('standard', nx.gnp_random_graph)],\n",
    "    value=nx.fast_gnp_random_graph,\n",
    "    description='generator:',\n",
    ")\n",
    "\n",
    "l = widgets.Dropdown( \n",
    "    options=[('shell_layout','nx.shell_layout'), ('spring_layout', 'nx.spring_layout')],\n",
    "    value='nx.shell_layout',\n",
    "    description='layout:',)\n",
    "\n",
    "button = widgets.Button(description=\"Gen!\")\n",
    "\n",
    "class wid:\n",
    "    def __init__(self):\n",
    "        self.gen =''\n",
    "        \n",
    "    def update_ie(self,change):\n",
    "         with output:\n",
    "            output.clear_output()\n",
    "            if change.new == 'nx.shell_layout':    \n",
    "                nx.draw(self.gen, pos=self.g1)   \n",
    "                plt.show()\n",
    "            if change.new == 'nx.spring_layout':\n",
    "                nx.draw(self.gen, pos=self.g2)   \n",
    "                plt.show()\n",
    "\n",
    "    def set_gen(self, n, p, generator):\n",
    "        with output:\n",
    "            self.gen = generator(n, p)\n",
    " \n",
    "    def dsp(self):\n",
    "        with output:\n",
    "            output.clear_output()\n",
    "            nx.draw(self.gen, pos=self.pos)   \n",
    "            plt.show()\n",
    "\n",
    "    def on_button_clicked(self,b):\n",
    "        with output:\n",
    "            print(\"Button clicked.\")\n",
    "            self.set_gen( n.value, p.value, g.value)\n",
    "            self.g1 = nx.shell_layout(self.gen)\n",
    "            self.g2 = nx.spring_layout(self.gen)\n",
    "            output.clear_output()\n",
    "            if l.value == 'nx.shell_layout':\n",
    "                nx.draw(self.gen, pos=self.g1)   \n",
    "                plt.show()\n",
    "            if l.value == 'nx.spring_layout':\n",
    "                nx.draw(self.gen, pos=self.g1)   \n",
    "                plt.show()\n",
    "\n",
    "            \n",
    "\n",
    "\n",
    "\n",
    "\n",
    "\n",
    "wi = wid()\n",
    "\n",
    "\n",
    "\n",
    "\n",
    "ie = widgets.interactive(wi.set_gen,  n = n, p = p, generator = g);\n",
    "\n",
    "display(l)\n",
    "display(ie)\n",
    "display(output)\n",
    "display(button)\n",
    "\n",
    "button.on_click(wi.on_button_clicked)\n",
    "l.observe(wi.update_ie, names='value')\n",
    "\n"
   ]
  },
  {
   "cell_type": "code",
   "execution_count": null,
   "id": "4d4b5464-e4f5-4156-8ec5-e58916bf812b",
   "metadata": {},
   "outputs": [],
   "source": []
  }
 ],
 "metadata": {
  "kernelspec": {
   "display_name": "Python 3 (ipykernel)",
   "language": "python",
   "name": "python3"
  },
  "language_info": {
   "codemirror_mode": {
    "name": "ipython",
    "version": 3
   },
   "file_extension": ".py",
   "mimetype": "text/x-python",
   "name": "python",
   "nbconvert_exporter": "python",
   "pygments_lexer": "ipython3",
   "version": "3.11.2"
  }
 },
 "nbformat": 4,
 "nbformat_minor": 5
}
