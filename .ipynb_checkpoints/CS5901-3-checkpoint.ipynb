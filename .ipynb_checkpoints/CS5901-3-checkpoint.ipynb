{
 "cells": [
  {
   "cell_type": "markdown",
   "id": "fc1d362f-ee93-45ee-8420-8c3b78f7a63a",
   "metadata": {
    "jp-MarkdownHeadingCollapsed": true
   },
   "source": [
    "## Numpy"
   ]
  },
  {
   "cell_type": "code",
   "execution_count": 1,
   "id": "11a23beb-aaa4-4bcc-a3cb-53fabd86b588",
   "metadata": {},
   "outputs": [
    {
     "name": "stdout",
     "output_type": "stream",
     "text": [
      "<module 'numpy' from 'C:\\\\Python311\\\\Lib\\\\site-packages\\\\numpy\\\\__init__.py'>\n"
     ]
    }
   ],
   "source": [
    "import numpy as np\n",
    "\n",
    "arr = np.array([[1,2,3],[4,5,3]])\n",
    "print(np)\n"
   ]
  },
  {
   "cell_type": "code",
   "execution_count": 2,
   "id": "9f92cc73-f0b8-45b0-80ca-a623a5ba4e51",
   "metadata": {},
   "outputs": [
    {
     "name": "stdout",
     "output_type": "stream",
     "text": [
      "2\n",
      "(2, 3)\n",
      "6\n",
      "int32\n",
      "4\n",
      "<memory at 0x000001EB3595B780>\n"
     ]
    }
   ],
   "source": [
    "print(arr.ndim)\n",
    "print(arr.shape)\n",
    "print(arr.size)\n",
    "print(arr.dtype)\n",
    "print(arr.itemsize)\n",
    "print(arr.data)"
   ]
  },
  {
   "cell_type": "code",
   "execution_count": 3,
   "id": "958e09b4-e133-4426-ac71-06fa57782e16",
   "metadata": {},
   "outputs": [
    {
     "name": "stdout",
     "output_type": "stream",
     "text": [
      "[[1 2 3]\n",
      " [4 5 3]]\n",
      "int16\n"
     ]
    }
   ],
   "source": [
    "arr = np.array([[1,2,3],[4,5,3]], dtype=np.int16)  # set the data types\n",
    "print(arr)\n",
    "print(arr.dtype)"
   ]
  },
  {
   "cell_type": "code",
   "execution_count": 4,
   "id": "6d692a04-9557-43a3-8962-44d70303b0a5",
   "metadata": {},
   "outputs": [
    {
     "name": "stdout",
     "output_type": "stream",
     "text": [
      "[[1 2 3]]\n",
      "[[4]\n",
      " [5]\n",
      " [6]]\n"
     ]
    }
   ],
   "source": [
    "row = np.array([1,2,3])\n",
    "explicit_row = np.array([[1,2,3]])\n",
    "explicit_col = np.array([[4],[5],[6]])\n",
    "print(explicit_row)\n",
    "print(explicit_col)\n"
   ]
  },
  {
   "cell_type": "code",
   "execution_count": 5,
   "id": "e119f2a4-3478-46d1-b058-152a689d6cbd",
   "metadata": {},
   "outputs": [
    {
     "data": {
      "text/plain": [
       "array([[55, 55],\n",
       "       [55, 55],\n",
       "       [55, 55]])"
      ]
     },
     "execution_count": 5,
     "metadata": {},
     "output_type": "execute_result"
    }
   ],
   "source": [
    "np.ones((2,2))\n",
    "np.zeros((2,2))\n",
    "np.full((3,2), 55)"
   ]
  },
  {
   "cell_type": "code",
   "execution_count": 6,
   "id": "bd70d805-2b19-4062-96d9-a5ae00b66bea",
   "metadata": {},
   "outputs": [
    {
     "data": {
      "text/plain": [
       "array([ 0., 11., 22., 33., 44., 55., 66., 77., 88., 99.])"
      ]
     },
     "execution_count": 6,
     "metadata": {},
     "output_type": "execute_result"
    }
   ],
   "source": [
    "np.linspace(0,99, num=10)"
   ]
  },
  {
   "cell_type": "code",
   "execution_count": 7,
   "id": "26972831-d36e-468b-bca7-7064f1c0f16c",
   "metadata": {},
   "outputs": [
    {
     "data": {
      "text/plain": [
       "array([ 0,  5, 10, 15, 20, 25, 30, 35, 40, 45, 50, 55, 60, 65, 70, 75, 80,\n",
       "       85, 90, 95])"
      ]
     },
     "execution_count": 7,
     "metadata": {},
     "output_type": "execute_result"
    }
   ],
   "source": [
    "np.arange(0, 99, 5)"
   ]
  },
  {
   "cell_type": "code",
   "execution_count": 8,
   "id": "ff2a1d94-fc42-4dd9-9a21-d851036dd8c8",
   "metadata": {},
   "outputs": [],
   "source": [
    "#np.add\n",
    "#np.subtract\n",
    "#np.mutiply\n",
    "#np.divide"
   ]
  },
  {
   "cell_type": "code",
   "execution_count": 9,
   "id": "b0aac6bf-6039-4bcf-927b-ed61056a0d68",
   "metadata": {},
   "outputs": [
    {
     "name": "stdout",
     "output_type": "stream",
     "text": [
      "3.5\n",
      "1.707825127659933\n",
      "1\n",
      "6\n"
     ]
    }
   ],
   "source": [
    "\n",
    "arr = np.array([[1,2,3],[4,5,6]])\n",
    "print(np.mean(arr))\n",
    "print(np.std(arr))\n",
    "print(np.min(arr))\n",
    "print(np.max(arr))"
   ]
  },
  {
   "cell_type": "code",
   "execution_count": 10,
   "id": "eccd27e0-de57-48fe-9a36-8d909d17dbbd",
   "metadata": {},
   "outputs": [
    {
     "data": {
      "text/plain": [
       "(3, 2)"
      ]
     },
     "execution_count": 10,
     "metadata": {},
     "output_type": "execute_result"
    }
   ],
   "source": [
    "arr.T.shape # transpose the array"
   ]
  },
  {
   "cell_type": "code",
   "execution_count": 11,
   "id": "a81a1b3f-9705-46d8-80a9-761db7635982",
   "metadata": {},
   "outputs": [
    {
     "data": {
      "text/plain": [
       "array([[1, 2, 3, 4, 5, 6]])"
      ]
     },
     "execution_count": 11,
     "metadata": {},
     "output_type": "execute_result"
    }
   ],
   "source": [
    "np.reshape(arr,(1,6))"
   ]
  },
  {
   "cell_type": "code",
   "execution_count": 12,
   "id": "cc910a29-63ab-42e7-a90a-27234ed65017",
   "metadata": {},
   "outputs": [],
   "source": [
    "# np.save np.load"
   ]
  },
  {
   "cell_type": "markdown",
   "id": "0814a965-81e0-4f1d-899f-4e4c25a26651",
   "metadata": {
    "jp-MarkdownHeadingCollapsed": true
   },
   "source": [
    "## Pandas\n",
    "Each column is a numpy array"
   ]
  },
  {
   "cell_type": "code",
   "execution_count": 13,
   "id": "e9f4f191-b285-4e4b-9fdc-cf87f5bc6866",
   "metadata": {},
   "outputs": [
    {
     "data": {
      "text/plain": [
       "0    a\n",
       "1    b\n",
       "2    c\n",
       "3    c\n",
       "dtype: object"
      ]
     },
     "execution_count": 13,
     "metadata": {},
     "output_type": "execute_result"
    }
   ],
   "source": [
    "import pandas as pd\n",
    "pd.Series(['a','b','c','c'])  # one dimensional array\n"
   ]
  },
  {
   "cell_type": "code",
   "execution_count": 14,
   "id": "c9d471ef-7a7a-46d8-b76f-258de685a731",
   "metadata": {},
   "outputs": [],
   "source": [
    "s = pd.Series(['a','b','c','c'],\n",
    "         index=['r1','r2','r3','r4']\n",
    "         )  # supplying a custom index"
   ]
  },
  {
   "cell_type": "code",
   "execution_count": 15,
   "id": "00bd584d-3807-46ad-be81-ad4c71d068a1",
   "metadata": {},
   "outputs": [
    {
     "data": {
      "text/plain": [
       "'a'"
      ]
     },
     "execution_count": 15,
     "metadata": {},
     "output_type": "execute_result"
    }
   ],
   "source": [
    "s.loc['r1'] # value by key "
   ]
  },
  {
   "cell_type": "code",
   "execution_count": 16,
   "id": "e6430838-038d-4dbe-a5b7-453434597c75",
   "metadata": {},
   "outputs": [
    {
     "data": {
      "text/plain": [
       "'b'"
      ]
     },
     "execution_count": 16,
     "metadata": {},
     "output_type": "execute_result"
    }
   ],
   "source": [
    "s.iloc[1] # value by index"
   ]
  },
  {
   "cell_type": "code",
   "execution_count": 17,
   "id": "6be7242f-b772-4a94-8690-7b5eb636f293",
   "metadata": {},
   "outputs": [
    {
     "data": {
      "text/html": [
       "<div>\n",
       "<style scoped>\n",
       "    .dataframe tbody tr th:only-of-type {\n",
       "        vertical-align: middle;\n",
       "    }\n",
       "\n",
       "    .dataframe tbody tr th {\n",
       "        vertical-align: top;\n",
       "    }\n",
       "\n",
       "    .dataframe thead th {\n",
       "        text-align: right;\n",
       "    }\n",
       "</style>\n",
       "<table border=\"1\" class=\"dataframe\">\n",
       "  <thead>\n",
       "    <tr style=\"text-align: right;\">\n",
       "      <th></th>\n",
       "      <th>name</th>\n",
       "      <th>inst</th>\n",
       "      <th>age</th>\n",
       "    </tr>\n",
       "  </thead>\n",
       "  <tbody>\n",
       "    <tr>\n",
       "      <th>0</th>\n",
       "      <td>a</td>\n",
       "      <td>1a</td>\n",
       "      <td>12</td>\n",
       "    </tr>\n",
       "    <tr>\n",
       "      <th>1</th>\n",
       "      <td>b</td>\n",
       "      <td>2d</td>\n",
       "      <td>1</td>\n",
       "    </tr>\n",
       "    <tr>\n",
       "      <th>2</th>\n",
       "      <td>s</td>\n",
       "      <td>3d</td>\n",
       "      <td>44</td>\n",
       "    </tr>\n",
       "  </tbody>\n",
       "</table>\n",
       "</div>"
      ],
      "text/plain": [
       "  name inst  age\n",
       "0    a   1a   12\n",
       "1    b   2d    1\n",
       "2    s   3d   44"
      ]
     },
     "execution_count": 17,
     "metadata": {},
     "output_type": "execute_result"
    }
   ],
   "source": [
    "p_name = pd.DataFrame({\n",
    "    \"name\": [\"a\",\"b\",\"s\"],\n",
    "    \"inst\": [\"1a\",\"2d\",\"3d\"],\n",
    "    \"age\": [12,1,44]\n",
    "})\n",
    "p_name"
   ]
  },
  {
   "cell_type": "code",
   "execution_count": 18,
   "id": "f5285082-4b44-418f-90f8-b98fbf2203ff",
   "metadata": {},
   "outputs": [],
   "source": [
    "# set the column names\n",
    "band = pd.DataFrame(columns=['name','int','age'])"
   ]
  },
  {
   "cell_type": "code",
   "execution_count": 19,
   "id": "04962ac1-0f18-41db-8a52-e4ff517c5ca4",
   "metadata": {},
   "outputs": [
    {
     "data": {
      "text/html": [
       "<div>\n",
       "<style scoped>\n",
       "    .dataframe tbody tr th:only-of-type {\n",
       "        vertical-align: middle;\n",
       "    }\n",
       "\n",
       "    .dataframe tbody tr th {\n",
       "        vertical-align: top;\n",
       "    }\n",
       "\n",
       "    .dataframe thead th {\n",
       "        text-align: right;\n",
       "    }\n",
       "</style>\n",
       "<table border=\"1\" class=\"dataframe\">\n",
       "  <thead>\n",
       "    <tr style=\"text-align: right;\">\n",
       "      <th></th>\n",
       "      <th>name</th>\n",
       "      <th>int</th>\n",
       "      <th>age</th>\n",
       "    </tr>\n",
       "  </thead>\n",
       "  <tbody>\n",
       "  </tbody>\n",
       "</table>\n",
       "</div>"
      ],
      "text/plain": [
       "Empty DataFrame\n",
       "Columns: [name, int, age]\n",
       "Index: []"
      ]
     },
     "execution_count": 19,
     "metadata": {},
     "output_type": "execute_result"
    }
   ],
   "source": [
    "band"
   ]
  },
  {
   "cell_type": "code",
   "execution_count": 20,
   "id": "313f89b2-4298-49ec-b8ed-2291a5e3b1d8",
   "metadata": {},
   "outputs": [
    {
     "data": {
      "text/plain": [
       "Index(['name', 'int', 'age'], dtype='object')"
      ]
     },
     "execution_count": 20,
     "metadata": {},
     "output_type": "execute_result"
    }
   ],
   "source": [
    "band.columns # tell me about the colunm names"
   ]
  },
  {
   "cell_type": "code",
   "execution_count": 21,
   "id": "8c5522de-4f99-4a8b-9740-6ba6a4766c38",
   "metadata": {},
   "outputs": [
    {
     "data": {
      "text/html": [
       "<div>\n",
       "<style scoped>\n",
       "    .dataframe tbody tr th:only-of-type {\n",
       "        vertical-align: middle;\n",
       "    }\n",
       "\n",
       "    .dataframe tbody tr th {\n",
       "        vertical-align: top;\n",
       "    }\n",
       "\n",
       "    .dataframe thead th {\n",
       "        text-align: right;\n",
       "    }\n",
       "</style>\n",
       "<table border=\"1\" class=\"dataframe\">\n",
       "  <thead>\n",
       "    <tr style=\"text-align: right;\">\n",
       "      <th></th>\n",
       "      <th>name</th>\n",
       "      <th>inst</th>\n",
       "      <th>age</th>\n",
       "    </tr>\n",
       "  </thead>\n",
       "  <tbody>\n",
       "    <tr>\n",
       "      <th>0</th>\n",
       "      <td>a</td>\n",
       "      <td>1a</td>\n",
       "      <td>12</td>\n",
       "    </tr>\n",
       "  </tbody>\n",
       "</table>\n",
       "</div>"
      ],
      "text/plain": [
       "  name inst  age\n",
       "0    a   1a   12"
      ]
     },
     "execution_count": 21,
     "metadata": {},
     "output_type": "execute_result"
    }
   ],
   "source": [
    "p_name.head(1) # display the first row"
   ]
  },
  {
   "cell_type": "code",
   "execution_count": 22,
   "id": "b3d48de6-179a-4742-8ddd-ed79b928dbaf",
   "metadata": {},
   "outputs": [
    {
     "data": {
      "text/html": [
       "<div>\n",
       "<style scoped>\n",
       "    .dataframe tbody tr th:only-of-type {\n",
       "        vertical-align: middle;\n",
       "    }\n",
       "\n",
       "    .dataframe tbody tr th {\n",
       "        vertical-align: top;\n",
       "    }\n",
       "\n",
       "    .dataframe thead th {\n",
       "        text-align: right;\n",
       "    }\n",
       "</style>\n",
       "<table border=\"1\" class=\"dataframe\">\n",
       "  <thead>\n",
       "    <tr style=\"text-align: right;\">\n",
       "      <th></th>\n",
       "      <th>name</th>\n",
       "      <th>inst</th>\n",
       "      <th>age</th>\n",
       "    </tr>\n",
       "  </thead>\n",
       "  <tbody>\n",
       "    <tr>\n",
       "      <th>0</th>\n",
       "      <td>a</td>\n",
       "      <td>1a</td>\n",
       "      <td>12</td>\n",
       "    </tr>\n",
       "    <tr>\n",
       "      <th>2</th>\n",
       "      <td>s</td>\n",
       "      <td>3d</td>\n",
       "      <td>44</td>\n",
       "    </tr>\n",
       "  </tbody>\n",
       "</table>\n",
       "</div>"
      ],
      "text/plain": [
       "  name inst  age\n",
       "0    a   1a   12\n",
       "2    s   3d   44"
      ]
     },
     "execution_count": 22,
     "metadata": {},
     "output_type": "execute_result"
    }
   ],
   "source": [
    "predicate = p_name['age'] > 3 \n",
    "# select where a is grater than 3\n",
    "over_3 = p_name[predicate]\n",
    "over_3"
   ]
  },
  {
   "cell_type": "code",
   "execution_count": 30,
   "id": "9dfdd746-703a-4c57-b416-36ff1fb9c68f",
   "metadata": {},
   "outputs": [
    {
     "data": {
      "text/html": [
       "<div>\n",
       "<style scoped>\n",
       "    .dataframe tbody tr th:only-of-type {\n",
       "        vertical-align: middle;\n",
       "    }\n",
       "\n",
       "    .dataframe tbody tr th {\n",
       "        vertical-align: top;\n",
       "    }\n",
       "\n",
       "    .dataframe thead th {\n",
       "        text-align: right;\n",
       "    }\n",
       "</style>\n",
       "<table border=\"1\" class=\"dataframe\">\n",
       "  <thead>\n",
       "    <tr style=\"text-align: right;\">\n",
       "      <th></th>\n",
       "      <th>Student ID</th>\n",
       "      <th>Name</th>\n",
       "      <th>Subject</th>\n",
       "      <th>Grade</th>\n",
       "      <th>Attendance</th>\n",
       "    </tr>\n",
       "  </thead>\n",
       "  <tbody>\n",
       "    <tr>\n",
       "      <th>0</th>\n",
       "      <td>1</td>\n",
       "      <td>John Smith</td>\n",
       "      <td>Math</td>\n",
       "      <td>85</td>\n",
       "      <td>95</td>\n",
       "    </tr>\n",
       "    <tr>\n",
       "      <th>1</th>\n",
       "      <td>2</td>\n",
       "      <td>Jane Doe</td>\n",
       "      <td>Science</td>\n",
       "      <td>92</td>\n",
       "      <td>100</td>\n",
       "    </tr>\n",
       "    <tr>\n",
       "      <th>2</th>\n",
       "      <td>3</td>\n",
       "      <td>Mark Brown</td>\n",
       "      <td>English</td>\n",
       "      <td>78</td>\n",
       "      <td>90</td>\n",
       "    </tr>\n",
       "    <tr>\n",
       "      <th>3</th>\n",
       "      <td>4</td>\n",
       "      <td>Sarah Green</td>\n",
       "      <td>History</td>\n",
       "      <td>88</td>\n",
       "      <td>85</td>\n",
       "    </tr>\n",
       "    <tr>\n",
       "      <th>4</th>\n",
       "      <td>5</td>\n",
       "      <td>Alex Lee</td>\n",
       "      <td>Math</td>\n",
       "      <td>95</td>\n",
       "      <td>100</td>\n",
       "    </tr>\n",
       "  </tbody>\n",
       "</table>\n",
       "</div>"
      ],
      "text/plain": [
       "   Student ID         Name  Subject  Grade  Attendance\n",
       "0           1   John Smith     Math     85          95\n",
       "1           2     Jane Doe  Science     92         100\n",
       "2           3   Mark Brown  English     78          90\n",
       "3           4  Sarah Green  History     88          85\n",
       "4           5     Alex Lee     Math     95         100"
      ]
     },
     "execution_count": 30,
     "metadata": {},
     "output_type": "execute_result"
    }
   ],
   "source": [
    "## Reading and writing\n",
    "grades = pd.read_csv('data/grades.csv')\n",
    "grades.head()\n"
   ]
  },
  {
   "cell_type": "markdown",
   "id": "ca397298-f06c-4dd3-aa88-5123c04b9781",
   "metadata": {},
   "source": [
    "## Getting Summery Stats"
   ]
  },
  {
   "cell_type": "code",
   "execution_count": 35,
   "id": "3082c7ea-be91-4400-9af3-ce42939f834d",
   "metadata": {},
   "outputs": [
    {
     "data": {
      "text/plain": [
       "88.6"
      ]
     },
     "execution_count": 35,
     "metadata": {},
     "output_type": "execute_result"
    }
   ],
   "source": [
    "grades['Grade'].mean()\n",
    "# .medium"
   ]
  },
  {
   "cell_type": "code",
   "execution_count": 37,
   "id": "4ac767d3-b1ca-4ef6-85cd-eb017683ccc7",
   "metadata": {},
   "outputs": [
    {
     "data": {
      "text/html": [
       "<div>\n",
       "<style scoped>\n",
       "    .dataframe tbody tr th:only-of-type {\n",
       "        vertical-align: middle;\n",
       "    }\n",
       "\n",
       "    .dataframe tbody tr th {\n",
       "        vertical-align: top;\n",
       "    }\n",
       "\n",
       "    .dataframe thead th {\n",
       "        text-align: right;\n",
       "    }\n",
       "</style>\n",
       "<table border=\"1\" class=\"dataframe\">\n",
       "  <thead>\n",
       "    <tr style=\"text-align: right;\">\n",
       "      <th></th>\n",
       "      <th>Student ID</th>\n",
       "      <th>Grade</th>\n",
       "      <th>Attendance</th>\n",
       "      <th>Normlised Grade</th>\n",
       "    </tr>\n",
       "  </thead>\n",
       "  <tbody>\n",
       "    <tr>\n",
       "      <th>count</th>\n",
       "      <td>20.00000</td>\n",
       "      <td>20.000000</td>\n",
       "      <td>20.000000</td>\n",
       "      <td>20.000000</td>\n",
       "    </tr>\n",
       "    <tr>\n",
       "      <th>mean</th>\n",
       "      <td>10.50000</td>\n",
       "      <td>88.600000</td>\n",
       "      <td>92.500000</td>\n",
       "      <td>0.886000</td>\n",
       "    </tr>\n",
       "    <tr>\n",
       "      <th>std</th>\n",
       "      <td>5.91608</td>\n",
       "      <td>5.030434</td>\n",
       "      <td>6.786209</td>\n",
       "      <td>0.050304</td>\n",
       "    </tr>\n",
       "    <tr>\n",
       "      <th>min</th>\n",
       "      <td>1.00000</td>\n",
       "      <td>78.000000</td>\n",
       "      <td>80.000000</td>\n",
       "      <td>0.780000</td>\n",
       "    </tr>\n",
       "    <tr>\n",
       "      <th>25%</th>\n",
       "      <td>5.75000</td>\n",
       "      <td>86.500000</td>\n",
       "      <td>88.750000</td>\n",
       "      <td>0.865000</td>\n",
       "    </tr>\n",
       "    <tr>\n",
       "      <th>50%</th>\n",
       "      <td>10.50000</td>\n",
       "      <td>89.500000</td>\n",
       "      <td>95.000000</td>\n",
       "      <td>0.895000</td>\n",
       "    </tr>\n",
       "    <tr>\n",
       "      <th>75%</th>\n",
       "      <td>15.25000</td>\n",
       "      <td>92.000000</td>\n",
       "      <td>100.000000</td>\n",
       "      <td>0.920000</td>\n",
       "    </tr>\n",
       "    <tr>\n",
       "      <th>max</th>\n",
       "      <td>20.00000</td>\n",
       "      <td>96.000000</td>\n",
       "      <td>100.000000</td>\n",
       "      <td>0.960000</td>\n",
       "    </tr>\n",
       "  </tbody>\n",
       "</table>\n",
       "</div>"
      ],
      "text/plain": [
       "       Student ID      Grade  Attendance  Normlised Grade\n",
       "count    20.00000  20.000000   20.000000        20.000000\n",
       "mean     10.50000  88.600000   92.500000         0.886000\n",
       "std       5.91608   5.030434    6.786209         0.050304\n",
       "min       1.00000  78.000000   80.000000         0.780000\n",
       "25%       5.75000  86.500000   88.750000         0.865000\n",
       "50%      10.50000  89.500000   95.000000         0.895000\n",
       "75%      15.25000  92.000000  100.000000         0.920000\n",
       "max      20.00000  96.000000  100.000000         0.960000"
      ]
     },
     "execution_count": 37,
     "metadata": {},
     "output_type": "execute_result"
    }
   ],
   "source": [
    "# descibe create a load of Summery Stats\n",
    "grades.describe()"
   ]
  },
  {
   "cell_type": "code",
   "execution_count": 88,
   "id": "fb3e60a8-39d6-4f1a-a892-41d77dfe0c73",
   "metadata": {},
   "outputs": [
    {
     "data": {
      "text/html": [
       "<div>\n",
       "<style scoped>\n",
       "    .dataframe tbody tr th:only-of-type {\n",
       "        vertical-align: middle;\n",
       "    }\n",
       "\n",
       "    .dataframe tbody tr th {\n",
       "        vertical-align: top;\n",
       "    }\n",
       "\n",
       "    .dataframe thead th {\n",
       "        text-align: right;\n",
       "    }\n",
       "</style>\n",
       "<table border=\"1\" class=\"dataframe\">\n",
       "  <thead>\n",
       "    <tr style=\"text-align: right;\">\n",
       "      <th></th>\n",
       "      <th>state</th>\n",
       "      <th>code</th>\n",
       "      <th>population</th>\n",
       "      <th>GDP (billion USD)</th>\n",
       "      <th>order joined</th>\n",
       "      <th>GDP per cap</th>\n",
       "    </tr>\n",
       "  </thead>\n",
       "  <tbody>\n",
       "    <tr>\n",
       "      <th>0</th>\n",
       "      <td>Alabama</td>\n",
       "      <td>AL</td>\n",
       "      <td>4849377</td>\n",
       "      <td>213</td>\n",
       "      <td>22</td>\n",
       "      <td>1032917301</td>\n",
       "    </tr>\n",
       "    <tr>\n",
       "      <th>1</th>\n",
       "      <td>Alaska</td>\n",
       "      <td>AK</td>\n",
       "      <td>736732</td>\n",
       "      <td>50</td>\n",
       "      <td>49</td>\n",
       "      <td>36836600</td>\n",
       "    </tr>\n",
       "    <tr>\n",
       "      <th>2</th>\n",
       "      <td>Arizona</td>\n",
       "      <td>AZ</td>\n",
       "      <td>6731484</td>\n",
       "      <td>356</td>\n",
       "      <td>48</td>\n",
       "      <td>2396408304</td>\n",
       "    </tr>\n",
       "    <tr>\n",
       "      <th>3</th>\n",
       "      <td>Arkansas</td>\n",
       "      <td>AR</td>\n",
       "      <td>2966369</td>\n",
       "      <td>127</td>\n",
       "      <td>25</td>\n",
       "      <td>376728863</td>\n",
       "    </tr>\n",
       "    <tr>\n",
       "      <th>4</th>\n",
       "      <td>California</td>\n",
       "      <td>CA</td>\n",
       "      <td>38802500</td>\n",
       "      <td>3600</td>\n",
       "      <td>31</td>\n",
       "      <td>139689000000</td>\n",
       "    </tr>\n",
       "  </tbody>\n",
       "</table>\n",
       "</div>"
      ],
      "text/plain": [
       "        state code  population  GDP (billion USD)  order joined   GDP per cap\n",
       "0     Alabama   AL     4849377                213            22    1032917301\n",
       "1      Alaska   AK      736732                 50            49      36836600\n",
       "2     Arizona   AZ     6731484                356            48    2396408304\n",
       "3    Arkansas   AR     2966369                127            25     376728863\n",
       "4  California   CA    38802500               3600            31  139689000000"
      ]
     },
     "execution_count": 88,
     "metadata": {},
     "output_type": "execute_result"
    }
   ],
   "source": [
    "stats = pd.read_csv('data/us-states.csv')\n",
    "stats_pop = stats[['population']].describe()\n",
    "stats.head()\n",
    "\n",
    "#stats_pop.iloc[[4,5,6],[0]]\n",
    "\n",
    "#codes = stats.sort_values('order joined',  ascending=False).iloc[:,1].values.tolist()\n",
    "#print(codes)\n",
    "\n",
    "stats['GDP per cap'] = stats.iloc[:,3] * stats.iloc[:,2]\n",
    "\n",
    "stats.head()"
   ]
  },
  {
   "cell_type": "code",
   "execution_count": 23,
   "id": "f7f0eeb8-6ed3-4d97-803c-3354bef072f5",
   "metadata": {},
   "outputs": [],
   "source": [
    "## widgets\n",
    "    # sliders\n",
    "    # checkboxes"
   ]
  },
  {
   "cell_type": "code",
   "execution_count": 24,
   "id": "58f15ad8-d5dc-407f-8a76-be0b8e36bee5",
   "metadata": {},
   "outputs": [
    {
     "data": {
      "application/vnd.jupyter.widget-view+json": {
       "model_id": "d46c4fb612ec4cc3b629ea34c000bc7a",
       "version_major": 2,
       "version_minor": 0
      },
      "text/plain": [
       "interactive(children=(IntSlider(value=11, description='n', max=20, min=2), FloatSlider(value=0.5, description=…"
      ]
     },
     "metadata": {},
     "output_type": "display_data"
    }
   ],
   "source": [
    "%matplotlib inline\n",
    "import matplotlib.pyplot as plt\n",
    "from ipywidgets import interact, interactive\n",
    "import ipywidgets as widgets\n",
    "import networkx as nx\n",
    "\n",
    "# interact(f, x=widgets.IntSlider(min=-10, max=30, step=1, value=10));\n",
    "\n",
    "def plot_random_binomial_graph(n, p, generator, layout):\n",
    "    g = generator(n, p)\n",
    "    pos = layout(g)\n",
    "    nx.draw(g, pos=pos)\n",
    "    plt.show()\n",
    "\n",
    "interact(plot_random_binomial_graph, n=(2,20), p=(0.0, 1.0, 0.001),\n",
    "         generator={'fast': nx.fast_gnp_random_graph, 'standard': nx.gnp_random_graph}, \n",
    "         layout={'shell_layout':nx.shell_layout, 'spring_layout': nx.spring_layout});"
   ]
  },
  {
   "cell_type": "code",
   "execution_count": 25,
   "id": "008c6b7c-2ca8-467b-a5fb-8fd318974d7d",
   "metadata": {},
   "outputs": [
    {
     "data": {
      "application/vnd.jupyter.widget-view+json": {
       "model_id": "28773545fa3740149d880a46c4737b5a",
       "version_major": 2,
       "version_minor": 0
      },
      "text/plain": [
       "interactive(children=(IntSlider(value=10, description='x', max=30, min=-10), Output()), _dom_classes=('widget-…"
      ]
     },
     "metadata": {},
     "output_type": "display_data"
    }
   ],
   "source": [
    "def f(x):\n",
    "    return x\n",
    "\n",
    "interact(f, x=10);"
   ]
  },
  {
   "cell_type": "code",
   "execution_count": null,
   "id": "b147b268-8b85-4bc7-a7ad-a45f1ef964ad",
   "metadata": {},
   "outputs": [],
   "source": []
  },
  {
   "cell_type": "code",
   "execution_count": 26,
   "id": "38b58e26-ec42-4b33-8f58-bfc17789ecae",
   "metadata": {},
   "outputs": [],
   "source": [
    "    #interact(plot_random_binomial_graph, g = gf , layout={'shell_layout':nx.shell_layout, 'spring_layout': nx.spring_layout});"
   ]
  },
  {
   "cell_type": "code",
   "execution_count": null,
   "id": "206012a9-0714-43cf-8d58-561c5e40f5e9",
   "metadata": {},
   "outputs": [],
   "source": []
  },
  {
   "cell_type": "code",
   "execution_count": null,
   "id": "f3e93951-a562-4ee1-865d-ac928323b15f",
   "metadata": {},
   "outputs": [],
   "source": []
  },
  {
   "cell_type": "code",
   "execution_count": 27,
   "id": "b5615b76-dd20-45a2-b910-ae8e8b35c4c9",
   "metadata": {},
   "outputs": [
    {
     "data": {
      "application/vnd.jupyter.widget-view+json": {
       "model_id": "b3cf4a9ffdaf483ca606097377061c11",
       "version_major": 2,
       "version_minor": 0
      },
      "text/plain": [
       "Dropdown(description='layout:', options=(('shell_layout', 'nx.shell_layout'), ('spring_layout', 'nx.spring_lay…"
      ]
     },
     "metadata": {},
     "output_type": "display_data"
    },
    {
     "data": {
      "application/vnd.jupyter.widget-view+json": {
       "model_id": "70912e337d4945e2a73d937d4b56dd1f",
       "version_major": 2,
       "version_minor": 0
      },
      "text/plain": [
       "interactive(children=(IntSlider(value=10, description='n', max=20, min=2), FloatSlider(value=0.5, description=…"
      ]
     },
     "metadata": {},
     "output_type": "display_data"
    },
    {
     "data": {
      "application/vnd.jupyter.widget-view+json": {
       "model_id": "d90b1d1558f3494c8177b5ba7a5b7530",
       "version_major": 2,
       "version_minor": 0
      },
      "text/plain": [
       "Output()"
      ]
     },
     "metadata": {},
     "output_type": "display_data"
    },
    {
     "data": {
      "application/vnd.jupyter.widget-view+json": {
       "model_id": "53728d1a99864b93aed015f2dafb1545",
       "version_major": 2,
       "version_minor": 0
      },
      "text/plain": [
       "Button(description='Gen!', style=ButtonStyle())"
      ]
     },
     "metadata": {},
     "output_type": "display_data"
    }
   ],
   "source": [
    "%matplotlib inline\n",
    "import matplotlib.pyplot as plt\n",
    "from ipywidgets import interact, interactive, fixed\n",
    "import ipywidgets as widgets\n",
    "import networkx as nx\n",
    "from IPython.display import display\n",
    "\n",
    "output = widgets.Output()\n",
    "n = widgets.IntSlider(min = 2, max =20, value=10)\n",
    "\n",
    "\n",
    "p = widgets.FloatSlider(min = 0.0, max =1.0, step=0.001, value=0.5)\n",
    "#\n",
    "\n",
    "g = widgets.Dropdown( \n",
    "    options=[('fast', nx.fast_gnp_random_graph), ('standard', nx.gnp_random_graph)],\n",
    "    value=nx.fast_gnp_random_graph,\n",
    "    description='generator:',\n",
    ")\n",
    "\n",
    "l = widgets.Dropdown( \n",
    "    options=[('shell_layout','nx.shell_layout'), ('spring_layout', 'nx.spring_layout')],\n",
    "    value='nx.shell_layout',\n",
    "    description='layout:',)\n",
    "\n",
    "button = widgets.Button(description=\"Gen!\")\n",
    "\n",
    "class wid:\n",
    "    def __init__(self):\n",
    "        self.gen =''\n",
    "        \n",
    "    def update_ie(self,change):\n",
    "         with output:\n",
    "            output.clear_output()\n",
    "            if change.new == 'nx.shell_layout':    \n",
    "                nx.draw(self.gen, pos=self.g1)   \n",
    "                plt.show()\n",
    "            if change.new == 'nx.spring_layout':\n",
    "                nx.draw(self.gen, pos=self.g2)   \n",
    "                plt.show()\n",
    "\n",
    "    def set_gen(self, n, p, generator):\n",
    "        with output:\n",
    "            self.gen = generator(n, p)\n",
    " \n",
    "    def dsp(self):\n",
    "        with output:\n",
    "            output.clear_output()\n",
    "            nx.draw(self.gen, pos=self.pos)   \n",
    "            plt.show()\n",
    "\n",
    "    def on_button_clicked(self,b):\n",
    "        with output:\n",
    "            print(\"Button clicked.\")\n",
    "            self.set_gen( n.value, p.value, g.value)\n",
    "            self.g1 = nx.shell_layout(self.gen)\n",
    "            self.g2 = nx.spring_layout(self.gen)\n",
    "            output.clear_output()\n",
    "            if l.value == 'nx.shell_layout':\n",
    "                nx.draw(self.gen, pos=self.g1)   \n",
    "                plt.show()\n",
    "            if l.value == 'nx.spring_layout':\n",
    "                nx.draw(self.gen, pos=self.g1)   \n",
    "                plt.show()\n",
    "\n",
    "            \n",
    "\n",
    "\n",
    "\n",
    "\n",
    "\n",
    "wi = wid()\n",
    "\n",
    "\n",
    "\n",
    "\n",
    "ie = widgets.interactive(wi.set_gen,  n = n, p = p, generator = g);\n",
    "\n",
    "display(l)\n",
    "display(ie)\n",
    "display(output)\n",
    "display(button)\n",
    "\n",
    "button.on_click(wi.on_button_clicked)\n",
    "l.observe(wi.update_ie, names='value')\n",
    "\n"
   ]
  },
  {
   "cell_type": "code",
   "execution_count": null,
   "id": "4d4b5464-e4f5-4156-8ec5-e58916bf812b",
   "metadata": {},
   "outputs": [],
   "source": []
  }
 ],
 "metadata": {
  "kernelspec": {
   "display_name": "Python 3 (ipykernel)",
   "language": "python",
   "name": "python3"
  },
  "language_info": {
   "codemirror_mode": {
    "name": "ipython",
    "version": 3
   },
   "file_extension": ".py",
   "mimetype": "text/x-python",
   "name": "python",
   "nbconvert_exporter": "python",
   "pygments_lexer": "ipython3",
   "version": "3.11.2"
  }
 },
 "nbformat": 4,
 "nbformat_minor": 5
}
