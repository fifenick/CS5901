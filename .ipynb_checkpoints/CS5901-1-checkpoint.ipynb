{
 "cells": [
  {
   "cell_type": "markdown",
   "id": "bcef424c-accc-4628-b256-b3d697ae212a",
   "metadata": {},
   "source": [
    "# CS5901: Programming in Python\n",
    "## [Notes for Jupyter basics](https://pgt-digital.st-andrews.ac.uk/mod/page/view.php?id=997)"
   ]
  },
  {
   "cell_type": "code",
   "execution_count": 1,
   "id": "67074f12-2bde-40b3-a8db-df84382e1d7e",
   "metadata": {},
   "outputs": [
    {
     "name": "stdout",
     "output_type": "stream",
     "text": [
      "Hello Word\n"
     ]
    }
   ],
   "source": [
    "print(\"Hello Word\")"
   ]
  },
  {
   "cell_type": "markdown",
   "id": "0b6275c6-39f8-43be-b89a-db3994c165be",
   "metadata": {},
   "source": [
    "This is our first Python programm"
   ]
  },
  {
   "cell_type": "markdown",
   "id": "94e29142-d7df-434e-bd8f-383819a365ce",
   "metadata": {},
   "source": [
    "Markdown can make text \n",
    "- **bold** using **\n",
    "- *italic* using *\n",
    "- ~~strikethrough~~  text using ~~\n",
    "                         "
   ]
  },
  {
   "cell_type": "code",
   "execution_count": 2,
   "id": "d7d1457f-d52f-4c85-ac98-60e2d9366b3b",
   "metadata": {},
   "outputs": [
    {
     "name": "stdout",
     "output_type": "stream",
     "text": [
      "36\n"
     ]
    }
   ],
   "source": [
    "print(12 * 3)"
   ]
  },
  {
   "cell_type": "markdown",
   "id": "48b52c8e-62b1-4e62-adb8-54c8670b1ba5",
   "metadata": {},
   "source": [
    "12 / 2\n",
    "2 * 2"
   ]
  },
  {
   "cell_type": "markdown",
   "id": "3e88f89b-d896-45f7-bfdb-1128b27c8cf4",
   "metadata": {},
   "source": [
    "## \n",
    "Basics: Variables"
   ]
  },
  {
   "cell_type": "code",
   "execution_count": 10,
   "id": "8d52c437-03c5-45a4-b74d-85d3443ea1b5",
   "metadata": {},
   "outputs": [
    {
     "name": "stdout",
     "output_type": "stream",
     "text": [
      "10 °C  is  50.0 °F\n"
     ]
    }
   ],
   "source": [
    "# celcius to farenheit conversion\n",
    "celcius = 10\n",
    "farenheit = (celcius * 9/5) + 32\n",
    "print(celcius,\"°C  is \", farenheit,\"°F\")"
   ]
  },
  {
   "cell_type": "markdown",
   "id": "b3c9cc37-586e-4cbd-b69d-dafedde199e5",
   "metadata": {},
   "source": [
    "# Unix Shell Basic Commands"
   ]
  },
  {
   "cell_type": "markdown",
   "id": "fc761c28-eb48-4016-9afb-947647f3ba2f",
   "metadata": {},
   "source": [
    "- ls      - List all directories\n",
    "- pwd     - Show current path\n",
    "- --help  - Show command ip\n",
    "- cat     - Display file contents\n",
    "- touch   - Followed by file name, create file if it dosn't exist\n",
    "- nano    - text editor\n",
    "- wc      - followed by file name, word count\n",
    "- mv      - Move file from to\n",
    "- cp      - copy from to\n",
    "- mkdir   - Make a directorie\n",
    "- rm      - Remove\n",
    "- re -r   - Recursive remove "
   ]
  },
  {
   "cell_type": "markdown",
   "id": "712f856f-14a9-4953-87de-384b6c5ca784",
   "metadata": {},
   "source": [
    "## Basic types"
   ]
  },
  {
   "cell_type": "markdown",
   "id": "6f223477-504d-4a1c-8fcb-750a6cf02336",
   "metadata": {},
   "source": [
    "- integer                      - Whole number, posative or negative\n",
    "- floating point numbers\n",
    "- complex numbers              - 1j\n",
    "- booleans"
   ]
  },
  {
   "cell_type": "markdown",
   "id": "bff770b3-0bec-4149-bd4c-00924e5f2f85",
   "metadata": {},
   "source": [
    "## Sequence data types"
   ]
  },
  {
   "cell_type": "markdown",
   "id": "07b8812b-6c28-4b28-93b3-5f24a68dde55",
   "metadata": {},
   "source": [
    "- strings\n",
    "- tuples\n",
    "- lists\n",
    "- dictionaries\n",
    "- sets"
   ]
  },
  {
   "cell_type": "markdown",
   "id": "fead3242-cd0f-4f6a-81a4-c262ca2d7833",
   "metadata": {},
   "source": [
    "type() - get the type of a verible "
   ]
  },
  {
   "cell_type": "code",
   "execution_count": 1,
   "id": "4ebfdf74-ef3a-4baa-b0db-234299e8c4e4",
   "metadata": {},
   "outputs": [
    {
     "data": {
      "text/plain": [
       "8"
      ]
     },
     "execution_count": 1,
     "metadata": {},
     "output_type": "execute_result"
    }
   ],
   "source": [
    "a = \"5.7\"\n",
    "b = \"2.3\"\n",
    "round(float(a)) + round(float(b))"
   ]
  },
  {
   "cell_type": "markdown",
   "id": "8c0faf41-976f-465f-9f74-6c4eaaa46ee8",
   "metadata": {},
   "source": [
    "## Strings"
   ]
  },
  {
   "cell_type": "markdown",
   "id": "4c6934e6-b0d9-4b8a-8019-4508c8c45a79",
   "metadata": {},
   "source": [
    "| h | e | l | l | o |\n",
    "| 0 | 1 | 2 | 3 | 4 |\n",
    "|-5 |-4 |-3 |-2 |-1 |"
   ]
  },
  {
   "cell_type": "code",
   "execution_count": 3,
   "id": "00fec64b-fcd1-4d04-81ff-886bc518e900",
   "metadata": {},
   "outputs": [
    {
     "data": {
      "text/plain": [
       "'h'"
      ]
     },
     "execution_count": 3,
     "metadata": {},
     "output_type": "execute_result"
    }
   ],
   "source": [
    "a[0]"
   ]
  },
  {
   "cell_type": "code",
   "execution_count": 4,
   "id": "03b1cceb-de4e-40e1-9ed9-b567befb9167",
   "metadata": {},
   "outputs": [
    {
     "data": {
      "text/plain": [
       "'el'"
      ]
     },
     "execution_count": 4,
     "metadata": {},
     "output_type": "execute_result"
    }
   ],
   "source": [
    "a[1:3]"
   ]
  },
  {
   "cell_type": "code",
   "execution_count": 5,
   "id": "5b730d64-96a2-4992-93c0-b1ac52936107",
   "metadata": {},
   "outputs": [
    {
     "data": {
      "text/plain": [
       "'llo'"
      ]
     },
     "execution_count": 5,
     "metadata": {},
     "output_type": "execute_result"
    }
   ],
   "source": [
    "a[2:]"
   ]
  },
  {
   "cell_type": "code",
   "execution_count": 6,
   "id": "67c6c56b-d8d5-4f98-be06-89e2297f412d",
   "metadata": {},
   "outputs": [
    {
     "data": {
      "text/plain": [
       "'o'"
      ]
     },
     "execution_count": 6,
     "metadata": {},
     "output_type": "execute_result"
    }
   ],
   "source": [
    "a[-1:]"
   ]
  },
  {
   "cell_type": "code",
   "execution_count": 8,
   "id": "3b8fd796-85e6-4b41-ab85-b155d6715e21",
   "metadata": {},
   "outputs": [
    {
     "data": {
      "text/plain": [
       "'llo'"
      ]
     },
     "execution_count": 8,
     "metadata": {},
     "output_type": "execute_result"
    }
   ],
   "source": [
    "a[-3:]"
   ]
  },
  {
   "cell_type": "code",
   "execution_count": 9,
   "id": "92d2ff1b-6442-490e-b4e3-2db4e30056b1",
   "metadata": {
    "jp-MarkdownHeadingCollapsed": true
   },
   "outputs": [
    {
     "data": {
      "text/plain": [
       "5"
      ]
     },
     "execution_count": 9,
     "metadata": {},
     "output_type": "execute_result"
    }
   ],
   "source": [
    "len(a)"
   ]
  },
  {
   "cell_type": "markdown",
   "id": "acd8d888-9009-479a-b2bd-d5d965fdfaec",
   "metadata": {},
   "source": [
    "## List"
   ]
  },
  {
   "cell_type": "code",
   "execution_count": 11,
   "id": "de34ecab-43da-4329-8361-174ed3ebfb30",
   "metadata": {},
   "outputs": [
    {
     "data": {
      "text/plain": [
       "[1, 2, 3, 4, 5, 6, 7, 8, 9]"
      ]
     },
     "execution_count": 11,
     "metadata": {},
     "output_type": "execute_result"
    }
   ],
   "source": [
    "a = [1,2,3,4,5]\n",
    "b = [6,7,8,9]\n",
    "a + b  # concat lists"
   ]
  },
  {
   "cell_type": "code",
   "execution_count": 12,
   "id": "fd8f0d21-7c7f-47de-bda6-231a0771675b",
   "metadata": {},
   "outputs": [
    {
     "data": {
      "text/plain": [
       "5"
      ]
     },
     "execution_count": 12,
     "metadata": {},
     "output_type": "execute_result"
    }
   ],
   "source": [
    "a[4]\n"
   ]
  },
  {
   "cell_type": "code",
   "execution_count": 16,
   "id": "5971f6d1-cdf4-4b92-a409-cddb41b402ef",
   "metadata": {},
   "outputs": [],
   "source": [
    "c = a + b"
   ]
  },
  {
   "cell_type": "code",
   "execution_count": 17,
   "id": "a34e16b5-92c0-4ff7-ba56-73c9bb64d0d1",
   "metadata": {},
   "outputs": [
    {
     "name": "stdout",
     "output_type": "stream",
     "text": [
      "[1, 2, 3, 4, 5, 6, 7, 8, 9]\n"
     ]
    }
   ],
   "source": [
    "print(c)"
   ]
  },
  {
   "cell_type": "code",
   "execution_count": 18,
   "id": "b26a7f15-ef48-4a15-b85c-b849119b54f5",
   "metadata": {},
   "outputs": [
    {
     "data": {
      "text/plain": [
       "[3, 4, 5, 6, 7]"
      ]
     },
     "execution_count": 18,
     "metadata": {},
     "output_type": "execute_result"
    }
   ],
   "source": [
    "c[2:7]"
   ]
  },
  {
   "cell_type": "code",
   "execution_count": 19,
   "id": "6685f5e4-f174-41a1-9e9f-88536b552fa8",
   "metadata": {},
   "outputs": [
    {
     "data": {
      "text/plain": [
       "[3, 5, 7]"
      ]
     },
     "execution_count": 19,
     "metadata": {},
     "output_type": "execute_result"
    }
   ],
   "source": [
    "c[2:7:2] "
   ]
  },
  {
   "cell_type": "code",
   "execution_count": 20,
   "id": "c40a2190-3669-4fd5-82f3-c0577290715f",
   "metadata": {},
   "outputs": [],
   "source": [
    "c.append(10)"
   ]
  },
  {
   "cell_type": "code",
   "execution_count": 21,
   "id": "c99292ba-7d05-4900-8169-7077d08826fd",
   "metadata": {},
   "outputs": [
    {
     "data": {
      "text/plain": [
       "[1, 2, 3, 4, 5, 6, 7, 8, 9, 10]"
      ]
     },
     "execution_count": 21,
     "metadata": {},
     "output_type": "execute_result"
    }
   ],
   "source": [
    "c"
   ]
  },
  {
   "cell_type": "code",
   "execution_count": 22,
   "id": "c3adbfc8-9509-4f3f-acae-1b2784ec0443",
   "metadata": {},
   "outputs": [
    {
     "data": {
      "text/plain": [
       "[1, 2, 1.34, 3, 4, 5, 6, 7, 8, 9, 10]"
      ]
     },
     "execution_count": 22,
     "metadata": {},
     "output_type": "execute_result"
    }
   ],
   "source": [
    "c.insert(2,1.34)\n",
    "c"
   ]
  },
  {
   "cell_type": "code",
   "execution_count": 26,
   "id": "253eed0f-2967-4fbd-aa29-6d35ff428eb4",
   "metadata": {},
   "outputs": [
    {
     "data": {
      "text/plain": [
       "[1, 2, 3, 4, 5, 6, 7, 8, 9, 10]"
      ]
     },
     "execution_count": 26,
     "metadata": {},
     "output_type": "execute_result"
    }
   ],
   "source": [
    "c.remove(1.34)\n",
    "c"
   ]
  },
  {
   "cell_type": "code",
   "execution_count": 28,
   "id": "3f8bc678-4cc6-43d1-bd2e-15f743ce4a41",
   "metadata": {},
   "outputs": [
    {
     "data": {
      "text/plain": [
       "[10, 9, 8, 7, 6, 5, 4, 3, 2, 1]"
      ]
     },
     "execution_count": 28,
     "metadata": {},
     "output_type": "execute_result"
    }
   ],
   "source": [
    "c.reverse()\n",
    "c"
   ]
  },
  {
   "cell_type": "code",
   "execution_count": 46,
   "id": "94139999-4667-40a6-80c3-bf12a3496894",
   "metadata": {},
   "outputs": [
    {
     "data": {
      "text/plain": [
       "[1, 2, 3, 4, 5, 6, 7, 8, 9, 10]"
      ]
     },
     "execution_count": 46,
     "metadata": {},
     "output_type": "execute_result"
    }
   ],
   "source": [
    "c[9::-1]"
   ]
  },
  {
   "cell_type": "code",
   "execution_count": 47,
   "id": "531997a7-b02a-41ec-9674-ef86f7e03543",
   "metadata": {},
   "outputs": [
    {
     "data": {
      "text/plain": [
       "[100, 2, 3]"
      ]
     },
     "execution_count": 47,
     "metadata": {},
     "output_type": "execute_result"
    }
   ],
   "source": [
    "a =[1 ,2,3]\n",
    "b=a\n",
    "a[0]=100\n",
    "b"
   ]
  },
  {
   "cell_type": "code",
   "execution_count": null,
   "id": "83746576-868c-4f97-8384-b93113d94dd1",
   "metadata": {},
   "outputs": [],
   "source": []
  }
 ],
 "metadata": {
  "kernelspec": {
   "display_name": "Python 3 (ipykernel)",
   "language": "python",
   "name": "python3"
  },
  "language_info": {
   "codemirror_mode": {
    "name": "ipython",
    "version": 3
   },
   "file_extension": ".py",
   "mimetype": "text/x-python",
   "name": "python",
   "nbconvert_exporter": "python",
   "pygments_lexer": "ipython3",
   "version": "3.11.2"
  }
 },
 "nbformat": 4,
 "nbformat_minor": 5
}
