{
 "cells": [
  {
   "cell_type": "markdown",
   "id": "340a93a7-6bc6-4a7a-8d81-8f6d7de256be",
   "metadata": {},
   "source": [
    "## Modules\n",
    "\n",
    "Python package = a collections of modules\n",
    "Modules = collection of classes\n"
   ]
  },
  {
   "cell_type": "code",
   "execution_count": 1,
   "id": "e2764197-9755-4a80-9fc2-1d0b98b1c720",
   "metadata": {},
   "outputs": [
    {
     "ename": "SyntaxError",
     "evalue": "invalid syntax (1829914851.py, line 5)",
     "output_type": "error",
     "traceback": [
      "\u001b[1;36m  Cell \u001b[1;32mIn[1], line 5\u001b[1;36m\u001b[0m\n\u001b[1;33m    pydoc c2f\u001b[0m\n\u001b[1;37m          ^\u001b[0m\n\u001b[1;31mSyntaxError\u001b[0m\u001b[1;31m:\u001b[0m invalid syntax\n"
     ]
    }
   ],
   "source": [
    "# Adding comments using pydoc\n",
    "# help takes comments from pydoc\n",
    "\n",
    "\"\"\" I am a comment \"\"\"\n",
    "\n",
    "pydoc c2f\n",
    "pydoc -w cef\n",
    "open c2f.html"
   ]
  },
  {
   "cell_type": "markdown",
   "id": "41134bda-c0a2-4183-af70-7a5f9c8c1b28",
   "metadata": {},
   "source": [
    "Modules can be used by inmport or from\n",
    "\n",
    "From x import func\n",
    "\n"
   ]
  },
  {
   "cell_type": "code",
   "execution_count": 4,
   "id": "3250c34d-97cf-4d54-8dab-025e6e159f9b",
   "metadata": {},
   "outputs": [
    {
     "name": "stdout",
     "output_type": "stream",
     "text": [
      "Help on module imperial_to_metric:\n",
      "\n",
      "NAME\n",
      "    imperial_to_metric - imperial to metric conversions\n",
      "\n",
      "FUNCTIONS\n",
      "    meters_to_yards(meters)\n",
      "        Convert meters into yards\n",
      "    \n",
      "    yards_to_meters(yards)\n",
      "        Converts yards into meters.\n",
      "\n",
      "FILE\n",
      "    c:\\jupyter\\cs5901\\imperial_to_metric.py\n",
      "\n",
      "\n"
     ]
    },
    {
     "data": {
      "text/plain": [
       "5.46805"
      ]
     },
     "execution_count": 4,
     "metadata": {},
     "output_type": "execute_result"
    }
   ],
   "source": [
    "import imperial_to_metric\n",
    "\n",
    "help(imperial_to_metric)\n",
    "\n",
    "imperial_to_metric.meters_to_yards(5)"
   ]
  },
  {
   "cell_type": "markdown",
   "id": "1416ea13-cf29-4e8e-9177-822b219ca111",
   "metadata": {},
   "source": [
    "## Classes\n",
    "\n",
    "CamelCase for class names\n",
    "snake case for functions and methods\n"
   ]
  },
  {
   "cell_type": "code",
   "execution_count": 14,
   "id": "224f0594-5d28-46c5-ab78-34f1377d3269",
   "metadata": {},
   "outputs": [
    {
     "name": "stdout",
     "output_type": "stream",
     "text": [
      "Name: Nick\n",
      "Date of birth: 29/11/78\n",
      "Modules: \n",
      "cs2455\n",
      "cs634345\n",
      "cs44356\n",
      "\n"
     ]
    }
   ],
   "source": [
    "class Student:\n",
    "    \"\"\" Class to hold student info \"\"\"\n",
    "    def __init__(self, name, date_of_birth, modules_codes):\n",
    "        self.name = name\n",
    "        self.dob = date_of_birth\n",
    "        self.mods = modules_codes\n",
    "\n",
    "\n",
    "    def print_details(self):\n",
    "        \"\"\" print the student details \"\"\"\n",
    "\n",
    "        text = \"Name: \"+self.name+'\\n'\n",
    "        text += \"Date of birth: \"+self.dob + '\\n'\n",
    "        text += \"Modules: \\n\"\n",
    "        for mod in self.mods:\n",
    "           text += mod +\"\\n\" \n",
    "        return text    \n",
    "\n",
    "me = Student(\"Nick\",\"29/11/78\",(\"cs2455\",\"cs634345\",\"cs44356\"))\n",
    "print(me.print_details())\n"
   ]
  },
  {
   "cell_type": "code",
   "execution_count": null,
   "id": "05356bac-c961-4e63-accd-d65e6650e17c",
   "metadata": {},
   "outputs": [],
   "source": []
  }
 ],
 "metadata": {
  "kernelspec": {
   "display_name": "Python 3 (ipykernel)",
   "language": "python",
   "name": "python3"
  },
  "language_info": {
   "codemirror_mode": {
    "name": "ipython",
    "version": 3
   },
   "file_extension": ".py",
   "mimetype": "text/x-python",
   "name": "python",
   "nbconvert_exporter": "python",
   "pygments_lexer": "ipython3",
   "version": "3.11.2"
  }
 },
 "nbformat": 4,
 "nbformat_minor": 5
}
