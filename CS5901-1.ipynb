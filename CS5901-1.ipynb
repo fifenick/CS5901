{
 "cells": [
  {
   "cell_type": "markdown",
   "id": "bcef424c-accc-4628-b256-b3d697ae212a",
   "metadata": {},
   "source": [
    "# CS5901: Programming in Python\n",
    "## [Notes for Jupyter basics](https://pgt-digital.st-andrews.ac.uk/mod/page/view.php?id=997)"
   ]
  },
  {
   "cell_type": "code",
   "execution_count": 1,
   "id": "67074f12-2bde-40b3-a8db-df84382e1d7e",
   "metadata": {},
   "outputs": [
    {
     "name": "stdout",
     "output_type": "stream",
     "text": [
      "Hello Word\n"
     ]
    }
   ],
   "source": [
    "print(\"Hello Word\")"
   ]
  },
  {
   "cell_type": "markdown",
   "id": "0b6275c6-39f8-43be-b89a-db3994c165be",
   "metadata": {},
   "source": [
    "This is our first Python programm"
   ]
  },
  {
   "cell_type": "markdown",
   "id": "94e29142-d7df-434e-bd8f-383819a365ce",
   "metadata": {},
   "source": [
    "Markdown can make text \n",
    "- **bold** using **\n",
    "- *italic* using *\n",
    "- ~~strikethrough~~  text using ~~\n",
    "                         "
   ]
  },
  {
   "cell_type": "code",
   "execution_count": 2,
   "id": "d7d1457f-d52f-4c85-ac98-60e2d9366b3b",
   "metadata": {},
   "outputs": [
    {
     "name": "stdout",
     "output_type": "stream",
     "text": [
      "36\n"
     ]
    }
   ],
   "source": [
    "print(12 * 3)"
   ]
  },
  {
   "cell_type": "markdown",
   "id": "48b52c8e-62b1-4e62-adb8-54c8670b1ba5",
   "metadata": {},
   "source": [
    "12 / 2\n",
    "2 * 2"
   ]
  },
  {
   "cell_type": "markdown",
   "id": "3e88f89b-d896-45f7-bfdb-1128b27c8cf4",
   "metadata": {},
   "source": [
    "## \n",
    "Basics: Variables"
   ]
  },
  {
   "cell_type": "code",
   "execution_count": 10,
   "id": "8d52c437-03c5-45a4-b74d-85d3443ea1b5",
   "metadata": {},
   "outputs": [
    {
     "name": "stdout",
     "output_type": "stream",
     "text": [
      "10 °C  is  50.0 °F\n"
     ]
    }
   ],
   "source": [
    "# celcius to farenheit conversion\n",
    "celcius = 10\n",
    "farenheit = (celcius * 9/5) + 32\n",
    "print(celcius,\"°C  is \", farenheit,\"°F\")"
   ]
  },
  {
   "cell_type": "code",
   "execution_count": null,
   "id": "43a46e28-e386-45b9-9487-2bd04e461504",
   "metadata": {},
   "outputs": [],
   "source": []
  }
 ],
 "metadata": {
  "kernelspec": {
   "display_name": "Python 3 (ipykernel)",
   "language": "python",
   "name": "python3"
  },
  "language_info": {
   "codemirror_mode": {
    "name": "ipython",
    "version": 3
   },
   "file_extension": ".py",
   "mimetype": "text/x-python",
   "name": "python",
   "nbconvert_exporter": "python",
   "pygments_lexer": "ipython3",
   "version": "3.11.2"
  }
 },
 "nbformat": 4,
 "nbformat_minor": 5
}
