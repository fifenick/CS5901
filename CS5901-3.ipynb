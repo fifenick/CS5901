{
 "cells": [
  {
   "cell_type": "markdown",
   "id": "fc1d362f-ee93-45ee-8420-8c3b78f7a63a",
   "metadata": {},
   "source": [
    "## Numpy"
   ]
  },
  {
   "cell_type": "code",
   "execution_count": 16,
   "id": "11a23beb-aaa4-4bcc-a3cb-53fabd86b588",
   "metadata": {},
   "outputs": [
    {
     "name": "stdout",
     "output_type": "stream",
     "text": [
      "<module 'numpy' from 'C:\\\\Python311\\\\Lib\\\\site-packages\\\\numpy\\\\__init__.py'>\n"
     ]
    }
   ],
   "source": [
    "import numpy as np\n",
    "\n",
    "arr = np.array([[1,2,3],[4,5,3]])\n",
    "print(np)\n"
   ]
  },
  {
   "cell_type": "code",
   "execution_count": 5,
   "id": "9f92cc73-f0b8-45b0-80ca-a623a5ba4e51",
   "metadata": {},
   "outputs": [
    {
     "name": "stdout",
     "output_type": "stream",
     "text": [
      "2\n",
      "(2, 3)\n",
      "6\n",
      "int32\n",
      "4\n",
      "<memory at 0x00000246FFECC450>\n"
     ]
    }
   ],
   "source": [
    "print(arr.ndim)\n",
    "print(arr.shape)\n",
    "print(arr.size)\n",
    "print(arr.dtype)\n",
    "print(arr.itemsize)\n",
    "print(arr.data)"
   ]
  },
  {
   "cell_type": "code",
   "execution_count": 9,
   "id": "958e09b4-e133-4426-ac71-06fa57782e16",
   "metadata": {},
   "outputs": [
    {
     "name": "stdout",
     "output_type": "stream",
     "text": [
      "[[1 2 3]\n",
      " [4 5 3]]\n",
      "int16\n"
     ]
    }
   ],
   "source": [
    "arr = np.array([[1,2,3],[4,5,3]], dtype=np.int16)  # set the data types\n",
    "print(arr)\n",
    "print(arr.dtype)"
   ]
  },
  {
   "cell_type": "code",
   "execution_count": 14,
   "id": "6d692a04-9557-43a3-8962-44d70303b0a5",
   "metadata": {},
   "outputs": [
    {
     "name": "stdout",
     "output_type": "stream",
     "text": [
      "[[1 2 3]]\n",
      "[[4]\n",
      " [5]\n",
      " [6]]\n"
     ]
    }
   ],
   "source": [
    "row = np.array([1,2,3])\n",
    "explicit_row = np.array([[1,2,3]])\n",
    "explicit_col = np.array([[4],[5],[6]])\n",
    "print(explicit_row)\n",
    "print(explicit_col)\n"
   ]
  },
  {
   "cell_type": "code",
   "execution_count": 17,
   "id": "e119f2a4-3478-46d1-b058-152a689d6cbd",
   "metadata": {},
   "outputs": [
    {
     "data": {
      "text/plain": [
       "array([[55, 55],\n",
       "       [55, 55],\n",
       "       [55, 55]])"
      ]
     },
     "execution_count": 17,
     "metadata": {},
     "output_type": "execute_result"
    }
   ],
   "source": [
    "np.ones((2,2))\n",
    "np.zeros((2,2))\n",
    "np.full((3,2), 55)"
   ]
  },
  {
   "cell_type": "code",
   "execution_count": 18,
   "id": "bd70d805-2b19-4062-96d9-a5ae00b66bea",
   "metadata": {},
   "outputs": [
    {
     "data": {
      "text/plain": [
       "array([ 0., 11., 22., 33., 44., 55., 66., 77., 88., 99.])"
      ]
     },
     "execution_count": 18,
     "metadata": {},
     "output_type": "execute_result"
    }
   ],
   "source": [
    "np.linspace(0,99, num=10)"
   ]
  },
  {
   "cell_type": "code",
   "execution_count": 20,
   "id": "26972831-d36e-468b-bca7-7064f1c0f16c",
   "metadata": {},
   "outputs": [
    {
     "data": {
      "text/plain": [
       "array([ 0,  5, 10, 15, 20, 25, 30, 35, 40, 45, 50, 55, 60, 65, 70, 75, 80,\n",
       "       85, 90, 95])"
      ]
     },
     "execution_count": 20,
     "metadata": {},
     "output_type": "execute_result"
    }
   ],
   "source": [
    "np.arange(0, 99, 5)"
   ]
  },
  {
   "cell_type": "code",
   "execution_count": null,
   "id": "ff2a1d94-fc42-4dd9-9a21-d851036dd8c8",
   "metadata": {},
   "outputs": [],
   "source": [
    "np.add\n",
    "np.subtract\n",
    "np.mutiply\n",
    "np.divide"
   ]
  },
  {
   "cell_type": "code",
   "execution_count": 22,
   "id": "b0aac6bf-6039-4bcf-927b-ed61056a0d68",
   "metadata": {},
   "outputs": [
    {
     "name": "stdout",
     "output_type": "stream",
     "text": [
      "3.5\n",
      "1.707825127659933\n",
      "1\n",
      "6\n"
     ]
    }
   ],
   "source": [
    "\n",
    "arr = np.array([[1,2,3],[4,5,6]])\n",
    "print(np.mean(arr))\n",
    "print(np.std(arr))\n",
    "print(np.min(arr))\n",
    "print(np.max(arr))"
   ]
  },
  {
   "cell_type": "code",
   "execution_count": 23,
   "id": "eccd27e0-de57-48fe-9a36-8d909d17dbbd",
   "metadata": {},
   "outputs": [
    {
     "data": {
      "text/plain": [
       "(3, 2)"
      ]
     },
     "execution_count": 23,
     "metadata": {},
     "output_type": "execute_result"
    }
   ],
   "source": [
    "arr.T.shape # transpose the array"
   ]
  },
  {
   "cell_type": "code",
   "execution_count": 25,
   "id": "a81a1b3f-9705-46d8-80a9-761db7635982",
   "metadata": {},
   "outputs": [
    {
     "data": {
      "text/plain": [
       "array([[1, 2, 3, 4, 5, 6]])"
      ]
     },
     "execution_count": 25,
     "metadata": {},
     "output_type": "execute_result"
    }
   ],
   "source": [
    "np.reshape(arr,(1,6))"
   ]
  },
  {
   "cell_type": "code",
   "execution_count": 26,
   "id": "cc910a29-63ab-42e7-a90a-27234ed65017",
   "metadata": {},
   "outputs": [],
   "source": [
    "# np.save np.load"
   ]
  },
  {
   "cell_type": "code",
   "execution_count": null,
   "id": "7ef57487-e157-4885-afbe-d04e63827504",
   "metadata": {},
   "outputs": [],
   "source": []
  }
 ],
 "metadata": {
  "kernelspec": {
   "display_name": "Python 3 (ipykernel)",
   "language": "python",
   "name": "python3"
  },
  "language_info": {
   "codemirror_mode": {
    "name": "ipython",
    "version": 3
   },
   "file_extension": ".py",
   "mimetype": "text/x-python",
   "name": "python",
   "nbconvert_exporter": "python",
   "pygments_lexer": "ipython3",
   "version": "3.11.2"
  }
 },
 "nbformat": 4,
 "nbformat_minor": 5
}
