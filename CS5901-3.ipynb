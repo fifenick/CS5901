{
 "cells": [
  {
   "cell_type": "markdown",
   "id": "fc1d362f-ee93-45ee-8420-8c3b78f7a63a",
   "metadata": {},
   "source": [
    "## Numpy"
   ]
  },
  {
   "cell_type": "code",
   "execution_count": 16,
   "id": "11a23beb-aaa4-4bcc-a3cb-53fabd86b588",
   "metadata": {},
   "outputs": [
    {
     "name": "stdout",
     "output_type": "stream",
     "text": [
      "<module 'numpy' from 'C:\\\\Python311\\\\Lib\\\\site-packages\\\\numpy\\\\__init__.py'>\n"
     ]
    }
   ],
   "source": [
    "import numpy as np\n",
    "\n",
    "arr = np.array([[1,2,3],[4,5,3]])\n",
    "print(np)\n"
   ]
  },
  {
   "cell_type": "code",
   "execution_count": 5,
   "id": "9f92cc73-f0b8-45b0-80ca-a623a5ba4e51",
   "metadata": {},
   "outputs": [
    {
     "name": "stdout",
     "output_type": "stream",
     "text": [
      "2\n",
      "(2, 3)\n",
      "6\n",
      "int32\n",
      "4\n",
      "<memory at 0x00000246FFECC450>\n"
     ]
    }
   ],
   "source": [
    "print(arr.ndim)\n",
    "print(arr.shape)\n",
    "print(arr.size)\n",
    "print(arr.dtype)\n",
    "print(arr.itemsize)\n",
    "print(arr.data)"
   ]
  },
  {
   "cell_type": "code",
   "execution_count": 9,
   "id": "958e09b4-e133-4426-ac71-06fa57782e16",
   "metadata": {},
   "outputs": [
    {
     "name": "stdout",
     "output_type": "stream",
     "text": [
      "[[1 2 3]\n",
      " [4 5 3]]\n",
      "int16\n"
     ]
    }
   ],
   "source": [
    "arr = np.array([[1,2,3],[4,5,3]], dtype=np.int16)  # set the data types\n",
    "print(arr)\n",
    "print(arr.dtype)"
   ]
  },
  {
   "cell_type": "code",
   "execution_count": 14,
   "id": "6d692a04-9557-43a3-8962-44d70303b0a5",
   "metadata": {},
   "outputs": [
    {
     "name": "stdout",
     "output_type": "stream",
     "text": [
      "[[1 2 3]]\n",
      "[[4]\n",
      " [5]\n",
      " [6]]\n"
     ]
    }
   ],
   "source": [
    "row = np.array([1,2,3])\n",
    "explicit_row = np.array([[1,2,3]])\n",
    "explicit_col = np.array([[4],[5],[6]])\n",
    "print(explicit_row)\n",
    "print(explicit_col)\n"
   ]
  },
  {
   "cell_type": "code",
   "execution_count": 17,
   "id": "e119f2a4-3478-46d1-b058-152a689d6cbd",
   "metadata": {},
   "outputs": [
    {
     "data": {
      "text/plain": [
       "array([[55, 55],\n",
       "       [55, 55],\n",
       "       [55, 55]])"
      ]
     },
     "execution_count": 17,
     "metadata": {},
     "output_type": "execute_result"
    }
   ],
   "source": [
    "np.ones((2,2))\n",
    "np.zeros((2,2))\n",
    "np.full((3,2), 55)"
   ]
  },
  {
   "cell_type": "code",
   "execution_count": 18,
   "id": "bd70d805-2b19-4062-96d9-a5ae00b66bea",
   "metadata": {},
   "outputs": [
    {
     "data": {
      "text/plain": [
       "array([ 0., 11., 22., 33., 44., 55., 66., 77., 88., 99.])"
      ]
     },
     "execution_count": 18,
     "metadata": {},
     "output_type": "execute_result"
    }
   ],
   "source": [
    "np.linspace(0,99, num=10)"
   ]
  },
  {
   "cell_type": "code",
   "execution_count": 20,
   "id": "26972831-d36e-468b-bca7-7064f1c0f16c",
   "metadata": {},
   "outputs": [
    {
     "data": {
      "text/plain": [
       "array([ 0,  5, 10, 15, 20, 25, 30, 35, 40, 45, 50, 55, 60, 65, 70, 75, 80,\n",
       "       85, 90, 95])"
      ]
     },
     "execution_count": 20,
     "metadata": {},
     "output_type": "execute_result"
    }
   ],
   "source": [
    "np.arange(0, 99, 5)"
   ]
  },
  {
   "cell_type": "code",
   "execution_count": null,
   "id": "ff2a1d94-fc42-4dd9-9a21-d851036dd8c8",
   "metadata": {},
   "outputs": [],
   "source": [
    "np.add\n",
    "np.subtract\n",
    "np.mutiply\n",
    "np.divide"
   ]
  },
  {
   "cell_type": "code",
   "execution_count": 22,
   "id": "b0aac6bf-6039-4bcf-927b-ed61056a0d68",
   "metadata": {},
   "outputs": [
    {
     "name": "stdout",
     "output_type": "stream",
     "text": [
      "3.5\n",
      "1.707825127659933\n",
      "1\n",
      "6\n"
     ]
    }
   ],
   "source": [
    "\n",
    "arr = np.array([[1,2,3],[4,5,6]])\n",
    "print(np.mean(arr))\n",
    "print(np.std(arr))\n",
    "print(np.min(arr))\n",
    "print(np.max(arr))"
   ]
  },
  {
   "cell_type": "code",
   "execution_count": 23,
   "id": "eccd27e0-de57-48fe-9a36-8d909d17dbbd",
   "metadata": {},
   "outputs": [
    {
     "data": {
      "text/plain": [
       "(3, 2)"
      ]
     },
     "execution_count": 23,
     "metadata": {},
     "output_type": "execute_result"
    }
   ],
   "source": [
    "arr.T.shape # transpose the array"
   ]
  },
  {
   "cell_type": "code",
   "execution_count": 25,
   "id": "a81a1b3f-9705-46d8-80a9-761db7635982",
   "metadata": {},
   "outputs": [
    {
     "data": {
      "text/plain": [
       "array([[1, 2, 3, 4, 5, 6]])"
      ]
     },
     "execution_count": 25,
     "metadata": {},
     "output_type": "execute_result"
    }
   ],
   "source": [
    "np.reshape(arr,(1,6))"
   ]
  },
  {
   "cell_type": "code",
   "execution_count": 26,
   "id": "cc910a29-63ab-42e7-a90a-27234ed65017",
   "metadata": {},
   "outputs": [],
   "source": [
    "# np.save np.load"
   ]
  },
  {
   "cell_type": "markdown",
   "id": "0814a965-81e0-4f1d-899f-4e4c25a26651",
   "metadata": {},
   "source": [
    "## pandas"
   ]
  },
  {
   "cell_type": "code",
   "execution_count": 3,
   "id": "e9f4f191-b285-4e4b-9fdc-cf87f5bc6866",
   "metadata": {},
   "outputs": [
    {
     "data": {
      "text/plain": [
       "0    a\n",
       "1    b\n",
       "2    c\n",
       "3    c\n",
       "dtype: object"
      ]
     },
     "execution_count": 3,
     "metadata": {},
     "output_type": "execute_result"
    }
   ],
   "source": [
    "import pandas as pd\n",
    "pd.Series(['a','b','c','c'])"
   ]
  },
  {
   "cell_type": "code",
   "execution_count": 7,
   "id": "c9d471ef-7a7a-46d8-b76f-258de685a731",
   "metadata": {},
   "outputs": [],
   "source": [
    "s = pd.Series(['a','b','c','c'],\n",
    "         index=['r1','r2','r3','r4']\n",
    "         )"
   ]
  },
  {
   "cell_type": "code",
   "execution_count": 8,
   "id": "00bd584d-3807-46ad-be81-ad4c71d068a1",
   "metadata": {},
   "outputs": [
    {
     "data": {
      "text/plain": [
       "'a'"
      ]
     },
     "execution_count": 8,
     "metadata": {},
     "output_type": "execute_result"
    }
   ],
   "source": [
    "s.loc['r1']"
   ]
  },
  {
   "cell_type": "code",
   "execution_count": 9,
   "id": "e6430838-038d-4dbe-a5b7-453434597c75",
   "metadata": {},
   "outputs": [
    {
     "data": {
      "text/plain": [
       "'b'"
      ]
     },
     "execution_count": 9,
     "metadata": {},
     "output_type": "execute_result"
    }
   ],
   "source": [
    "s.iloc[1]"
   ]
  },
  {
   "cell_type": "code",
   "execution_count": 16,
   "id": "6be7242f-b772-4a94-8690-7b5eb636f293",
   "metadata": {},
   "outputs": [
    {
     "data": {
      "text/html": [
       "<div>\n",
       "<style scoped>\n",
       "    .dataframe tbody tr th:only-of-type {\n",
       "        vertical-align: middle;\n",
       "    }\n",
       "\n",
       "    .dataframe tbody tr th {\n",
       "        vertical-align: top;\n",
       "    }\n",
       "\n",
       "    .dataframe thead th {\n",
       "        text-align: right;\n",
       "    }\n",
       "</style>\n",
       "<table border=\"1\" class=\"dataframe\">\n",
       "  <thead>\n",
       "    <tr style=\"text-align: right;\">\n",
       "      <th></th>\n",
       "      <th>name</th>\n",
       "      <th>inst</th>\n",
       "      <th>a</th>\n",
       "    </tr>\n",
       "  </thead>\n",
       "  <tbody>\n",
       "    <tr>\n",
       "      <th>0</th>\n",
       "      <td>a</td>\n",
       "      <td>1a</td>\n",
       "      <td>12</td>\n",
       "    </tr>\n",
       "    <tr>\n",
       "      <th>1</th>\n",
       "      <td>b</td>\n",
       "      <td>2d</td>\n",
       "      <td>1</td>\n",
       "    </tr>\n",
       "    <tr>\n",
       "      <th>2</th>\n",
       "      <td>s</td>\n",
       "      <td>3d</td>\n",
       "      <td>44</td>\n",
       "    </tr>\n",
       "  </tbody>\n",
       "</table>\n",
       "</div>"
      ],
      "text/plain": [
       "  name inst   a\n",
       "0    a   1a  12\n",
       "1    b   2d   1\n",
       "2    s   3d  44"
      ]
     },
     "execution_count": 16,
     "metadata": {},
     "output_type": "execute_result"
    }
   ],
   "source": [
    "p_name = pd.DataFrame({\n",
    "    \"name\": [\"a\",\"b\",\"s\"],\n",
    "    \"inst\": [\"1a\",\"2d\",\"3d\"],\n",
    "    \"a\": [12,1,44]\n",
    "})\n",
    "p_name"
   ]
  },
  {
   "cell_type": "code",
   "execution_count": 12,
   "id": "f5285082-4b44-418f-90f8-b98fbf2203ff",
   "metadata": {},
   "outputs": [],
   "source": [
    "band = pd.DataFrame(columns=['name','int','age'])"
   ]
  },
  {
   "cell_type": "code",
   "execution_count": 13,
   "id": "04962ac1-0f18-41db-8a52-e4ff517c5ca4",
   "metadata": {},
   "outputs": [
    {
     "data": {
      "text/html": [
       "<div>\n",
       "<style scoped>\n",
       "    .dataframe tbody tr th:only-of-type {\n",
       "        vertical-align: middle;\n",
       "    }\n",
       "\n",
       "    .dataframe tbody tr th {\n",
       "        vertical-align: top;\n",
       "    }\n",
       "\n",
       "    .dataframe thead th {\n",
       "        text-align: right;\n",
       "    }\n",
       "</style>\n",
       "<table border=\"1\" class=\"dataframe\">\n",
       "  <thead>\n",
       "    <tr style=\"text-align: right;\">\n",
       "      <th></th>\n",
       "      <th>name</th>\n",
       "      <th>int</th>\n",
       "      <th>age</th>\n",
       "    </tr>\n",
       "  </thead>\n",
       "  <tbody>\n",
       "  </tbody>\n",
       "</table>\n",
       "</div>"
      ],
      "text/plain": [
       "Empty DataFrame\n",
       "Columns: [name, int, age]\n",
       "Index: []"
      ]
     },
     "execution_count": 13,
     "metadata": {},
     "output_type": "execute_result"
    }
   ],
   "source": [
    "band"
   ]
  },
  {
   "cell_type": "code",
   "execution_count": 15,
   "id": "313f89b2-4298-49ec-b8ed-2291a5e3b1d8",
   "metadata": {},
   "outputs": [
    {
     "data": {
      "text/plain": [
       "Index(['name', 'int', 'age'], dtype='object')"
      ]
     },
     "execution_count": 15,
     "metadata": {},
     "output_type": "execute_result"
    }
   ],
   "source": [
    "band.columns"
   ]
  },
  {
   "cell_type": "code",
   "execution_count": 17,
   "id": "8c5522de-4f99-4a8b-9740-6ba6a4766c38",
   "metadata": {},
   "outputs": [
    {
     "data": {
      "text/html": [
       "<div>\n",
       "<style scoped>\n",
       "    .dataframe tbody tr th:only-of-type {\n",
       "        vertical-align: middle;\n",
       "    }\n",
       "\n",
       "    .dataframe tbody tr th {\n",
       "        vertical-align: top;\n",
       "    }\n",
       "\n",
       "    .dataframe thead th {\n",
       "        text-align: right;\n",
       "    }\n",
       "</style>\n",
       "<table border=\"1\" class=\"dataframe\">\n",
       "  <thead>\n",
       "    <tr style=\"text-align: right;\">\n",
       "      <th></th>\n",
       "      <th>name</th>\n",
       "      <th>inst</th>\n",
       "      <th>a</th>\n",
       "    </tr>\n",
       "  </thead>\n",
       "  <tbody>\n",
       "    <tr>\n",
       "      <th>0</th>\n",
       "      <td>a</td>\n",
       "      <td>1a</td>\n",
       "      <td>12</td>\n",
       "    </tr>\n",
       "  </tbody>\n",
       "</table>\n",
       "</div>"
      ],
      "text/plain": [
       "  name inst   a\n",
       "0    a   1a  12"
      ]
     },
     "execution_count": 17,
     "metadata": {},
     "output_type": "execute_result"
    }
   ],
   "source": [
    "p_name.head(1)"
   ]
  },
  {
   "cell_type": "code",
   "execution_count": 18,
   "id": "b3d48de6-179a-4742-8ddd-ed79b928dbaf",
   "metadata": {},
   "outputs": [
    {
     "data": {
      "text/html": [
       "<div>\n",
       "<style scoped>\n",
       "    .dataframe tbody tr th:only-of-type {\n",
       "        vertical-align: middle;\n",
       "    }\n",
       "\n",
       "    .dataframe tbody tr th {\n",
       "        vertical-align: top;\n",
       "    }\n",
       "\n",
       "    .dataframe thead th {\n",
       "        text-align: right;\n",
       "    }\n",
       "</style>\n",
       "<table border=\"1\" class=\"dataframe\">\n",
       "  <thead>\n",
       "    <tr style=\"text-align: right;\">\n",
       "      <th></th>\n",
       "      <th>name</th>\n",
       "      <th>inst</th>\n",
       "      <th>a</th>\n",
       "    </tr>\n",
       "  </thead>\n",
       "  <tbody>\n",
       "    <tr>\n",
       "      <th>0</th>\n",
       "      <td>a</td>\n",
       "      <td>1a</td>\n",
       "      <td>12</td>\n",
       "    </tr>\n",
       "    <tr>\n",
       "      <th>2</th>\n",
       "      <td>s</td>\n",
       "      <td>3d</td>\n",
       "      <td>44</td>\n",
       "    </tr>\n",
       "  </tbody>\n",
       "</table>\n",
       "</div>"
      ],
      "text/plain": [
       "  name inst   a\n",
       "0    a   1a  12\n",
       "2    s   3d  44"
      ]
     },
     "execution_count": 18,
     "metadata": {},
     "output_type": "execute_result"
    }
   ],
   "source": [
    "predicate = p_name['a'] > 3\n",
    "over_3 = p_name[predicate]\n",
    "over_3"
   ]
  },
  {
   "cell_type": "code",
   "execution_count": null,
   "id": "f7f0eeb8-6ed3-4d97-803c-3354bef072f5",
   "metadata": {},
   "outputs": [],
   "source": []
  }
 ],
 "metadata": {
  "kernelspec": {
   "display_name": "Python 3 (ipykernel)",
   "language": "python",
   "name": "python3"
  },
  "language_info": {
   "codemirror_mode": {
    "name": "ipython",
    "version": 3
   },
   "file_extension": ".py",
   "mimetype": "text/x-python",
   "name": "python",
   "nbconvert_exporter": "python",
   "pygments_lexer": "ipython3",
   "version": "3.11.2"
  }
 },
 "nbformat": 4,
 "nbformat_minor": 5
}
