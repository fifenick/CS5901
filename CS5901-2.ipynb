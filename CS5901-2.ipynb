{
 "cells": [
  {
   "cell_type": "markdown",
   "id": "340a93a7-6bc6-4a7a-8d81-8f6d7de256be",
   "metadata": {},
   "source": [
    "## Modules\n",
    "\n",
    "Python package = a collections of modules\n",
    "Modules = collection of classes\n"
   ]
  },
  {
   "cell_type": "code",
   "execution_count": 1,
   "id": "e2764197-9755-4a80-9fc2-1d0b98b1c720",
   "metadata": {},
   "outputs": [
    {
     "ename": "SyntaxError",
     "evalue": "invalid syntax (3949007794.py, line 6)",
     "output_type": "error",
     "traceback": [
      "\u001b[1;36m  Cell \u001b[1;32mIn[1], line 6\u001b[1;36m\u001b[0m\n\u001b[1;33m    pydoc c2f\u001b[0m\n\u001b[1;37m          ^\u001b[0m\n\u001b[1;31mSyntaxError\u001b[0m\u001b[1;31m:\u001b[0m invalid syntax\n"
     ]
    }
   ],
   "source": [
    "# Adding comments using pydoc\n",
    "# help takes comments from pydoc\n",
    "\n",
    "\"\"\" I am a comment \"\"\"\n",
    "\n",
    "pydoc c2f\n",
    "pydoc -w cef\n",
    "open c2f.html"
   ]
  },
  {
   "cell_type": "markdown",
   "id": "41134bda-c0a2-4183-af70-7a5f9c8c1b28",
   "metadata": {},
   "source": [
    "Modules can be used by inmport or from\n",
    "\n",
    "From x import func\n",
    "\n"
   ]
  },
  {
   "cell_type": "code",
   "execution_count": null,
   "id": "3250c34d-97cf-4d54-8dab-025e6e159f9b",
   "metadata": {},
   "outputs": [],
   "source": [
    "import imperial_to_metric\n",
    "\n",
    "help(imperial_to_metric)\n",
    "\n",
    "imperial_to_metric.meters_to_yards(5)"
   ]
  },
  {
   "cell_type": "markdown",
   "id": "1416ea13-cf29-4e8e-9177-822b219ca111",
   "metadata": {},
   "source": [
    "## Classes\n",
    "\n",
    "CamelCase for class names\n",
    "snake case for functions and methods\n"
   ]
  },
  {
   "cell_type": "code",
   "execution_count": null,
   "id": "224f0594-5d28-46c5-ab78-34f1377d3269",
   "metadata": {},
   "outputs": [],
   "source": [
    "class Student:\n",
    "    \"\"\" Class to hold student info \"\"\"\n",
    "    def __init__(self, name, date_of_birth, modules_codes):\n",
    "        self.name = name\n",
    "        self.dob = date_of_birth\n",
    "        self.mods = modules_codes\n",
    "\n",
    "    def __str__ (self):\n",
    "        return self.print_details()\n",
    "\n",
    "        \n",
    "    def print_details(self):\n",
    "        \"\"\" print the student details \"\"\"\n",
    "\n",
    "        text = \"Name: \"+self.name+'\\n'\n",
    "        text += \"Date of birth: \"+self.dob + '\\n'\n",
    "        text += \"Modules: \\n\"\n",
    "        for mod in self.mods:\n",
    "           text += mod +\"\\n\" \n",
    "        return text    \n",
    "\n",
    "\n",
    "class OnlineStudent(Student):\n",
    "\n",
    "    def __init__ (self,  name, date_of_birth, modules_codes, address):\n",
    "        self.address = address\n",
    "        Student.__init__(self, name, date_of_birth, modules_codes)\n",
    "\n",
    "    def print_address(self):\n",
    "        return self.address\n",
    "\n",
    "    def print_details(self):\n",
    "        \"\"\" print the student details \"\"\"\n",
    "\n",
    "        text = \"Name: \"+self.name+'\\n'\n",
    "        text += \"Date of birth: \"+self.dob + '\\n'\n",
    "        text += \"Modules: \\n\"\n",
    "        for mod in self.mods:\n",
    "           text += mod +\"\\n\"\n",
    "        text += \"Address: \"+ self.address\n",
    "        return text    \n",
    "\n",
    "\n",
    "\n",
    "# me = Student(\"Nick\",\"29/11/78\",(\"cs2455\",\"cs634345\",\"cs44356\"))\n",
    "me = OnlineStudent(\"Nick\",\"29/11/78\",(\"cs2455\",\"cs634345\",\"cs44356\"),\"address\")\n",
    "print(me.print_details())\n",
    "print(me)\n",
    "\n",
    "\n",
    "\n",
    "\n",
    "\n"
   ]
  },
  {
   "cell_type": "markdown",
   "id": "99977bcd-c6e2-4946-ae05-ffee0d37931a",
   "metadata": {},
   "source": [
    "## More about classes"
   ]
  },
  {
   "cell_type": "code",
   "execution_count": null,
   "id": "c26fd6b5-7c02-4e5e-9944-58e88feeb6f7",
   "metadata": {},
   "outputs": [],
   "source": [
    "__str__  = overwrite print\n",
    "__repe__ = overwite echo \n",
    "pass = do nothing\n",
    "int var to local scope\n"
   ]
  },
  {
   "cell_type": "markdown",
   "id": "77b5854b-9c0f-401a-8d74-2713cc9996db",
   "metadata": {},
   "source": [
    "## Making files executable"
   ]
  },
  {
   "cell_type": "markdown",
   "id": "f38dc77b-777e-4c59-b907-e214b0505668",
   "metadata": {},
   "source": [
    "add: #!/uer/bin/env python\n",
    "\n",
    "def main()\n",
    "\n",
    "if calling as an exe\n",
    "if __main__ == \"__main\"__\n",
    "    mmain()\n",
    "\n",
    "### arguments\n",
    "\n",
    "using import sys\n",
    "argv = input vars\n"
   ]
  },
  {
   "cell_type": "markdown",
   "id": "9b6b8607-2668-4c7c-898a-20672dfbd989",
   "metadata": {},
   "source": [
    "### Iterating"
   ]
  },
  {
   "cell_type": "code",
   "execution_count": null,
   "id": "0d3608ff-8387-4ea9-8f30-01089c3c4fe5",
   "metadata": {},
   "outputs": [],
   "source": [
    "# looping over a list\n",
    "for i in [1,2,3,4,5]:\n",
    "    print (i, end= ' ')\n",
    "\n",
    "# looping over a set\n",
    "for i in ([1,2,3,4,5]):\n",
    "    print (i, end= ' ')\n",
    "\n",
    "# range\n",
    "for i in range(5):\n",
    "    print (i)\n",
    "\n",
    "# 2 - 17 step of 3\n",
    "for i in range(2,17,3):\n",
    "    print(i)"
   ]
  },
  {
   "cell_type": "code",
   "execution_count": null,
   "id": "3aef6e6b-1413-4c29-8b98-7d08db91cbb8",
   "metadata": {},
   "outputs": [],
   "source": [
    "\n",
    "# tuple\n",
    "for i in (1,2,4,5):\n",
    "\n",
    "    \n",
    "    "
   ]
  },
  {
   "cell_type": "code",
   "execution_count": null,
   "id": "6e0c9c59-ad6b-435c-826d-a1db35f0a4f4",
   "metadata": {},
   "outputs": [],
   "source": []
  },
  {
   "cell_type": "code",
   "execution_count": null,
   "id": "ee209b10-a773-4e71-9e9f-6ff8389c9b70",
   "metadata": {},
   "outputs": [],
   "source": [
    "class IteratorCaresian:\n",
    "    def __init__(self,set1,set2):\n",
    "        self.set1 = set1\n",
    "        self.index1 = 0\n",
    "        self.set2 = set2\n",
    "        self.index2 = 1\n",
    " \n",
    "    def __iter__(self):\n",
    "        return self\n",
    "\n",
    "    def __next__(self):\n",
    "\n",
    "        if self.index1 != len(self.set1):\n",
    "            self.index1 = self.index1 + 1\n",
    "        else:\n",
    "            self.index1 = 1\n",
    "            self.index2 = self.index2 + 1\n",
    "            \n",
    "        if self.index2 > len(self.set2 ):\n",
    "            raise StopIteration   \n",
    "            \n",
    "        return  (self.set1[self.index1 -1] ,self.set2[self.index2 -1] )\n",
    "                                  \n",
    "for t in IteratorCaresian([1,2,3],['a','b']):\n",
    "    print(t)\n",
    "    "
   ]
  },
  {
   "cell_type": "code",
   "execution_count": 48,
   "id": "61cac672-08de-4f0e-95a0-f9dfc0c4f4e8",
   "metadata": {},
   "outputs": [
    {
     "name": "stdout",
     "output_type": "stream",
     "text": [
      "2 3 5 7 11 13 17 19 23 29 31 37 41 43 47 53 59 61 67 71 73 79 83 89 97 101 103 107 109 113 127 131 137 139 149 151 157 163 167 173 179 181 191 193 197 199 211 223 227 229 233 239 241 251 257 263 269 271 277 281 283 293 307 311 313 317 331 337 347 349 353 359 367 373 379 383 389 397 401 409 419 421 431 433 439 443 449 457 461 463 467 479 487 491 499 "
     ]
    }
   ],
   "source": [
    "def count_from(n):\n",
    "    while True:\n",
    "        yield n\n",
    "        n += 1\n",
    "\n",
    "def is_multiple(numbers, n):\n",
    "    for i in numbers:\n",
    "        if n% i==0:\n",
    "            return True\n",
    "    return False\n",
    "\n",
    "def prime_generator(n):\n",
    "    primes =[]\n",
    "    v = 2\n",
    "    while v < n:\n",
    "        if not is_multiple(primes,v):\n",
    "            primes.append(v)\n",
    "            yield v\n",
    "        v += 1\n",
    "      \n",
    "\n",
    "for i in prime_generator(500):\n",
    "    print(i, end=\" \")\n",
    "\n",
    "\n",
    "\n"
   ]
  },
  {
   "cell_type": "code",
   "execution_count": null,
   "id": "1afccf1f-63d3-4289-afbd-b6ce0cb1429e",
   "metadata": {},
   "outputs": [],
   "source": [
    "\n",
    "def is_prime_number(number):\n",
    "    \"\"\" Return a boolean sating wether a given intger is a prime. \"\"\"\n",
    "    if number_is greater_than_one() \n",
    "        for 1 in rage(2,n)\n",
    "            has_remender(number,)\n",
    "        \n",
    "        \n",
    "\n",
    "\n",
    "    "
   ]
  }
 ],
 "metadata": {
  "kernelspec": {
   "display_name": "Python 3 (ipykernel)",
   "language": "python",
   "name": "python3"
  },
  "language_info": {
   "codemirror_mode": {
    "name": "ipython",
    "version": 3
   },
   "file_extension": ".py",
   "mimetype": "text/x-python",
   "name": "python",
   "nbconvert_exporter": "python",
   "pygments_lexer": "ipython3",
   "version": "3.11.2"
  }
 },
 "nbformat": 4,
 "nbformat_minor": 5
}
