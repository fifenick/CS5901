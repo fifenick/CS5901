{
 "cells": [
  {
   "cell_type": "markdown",
   "id": "340a93a7-6bc6-4a7a-8d81-8f6d7de256be",
   "metadata": {},
   "source": [
    "## Modules\n",
    "\n",
    "Python package = a collections of modules\n",
    "Modules = collection of classes\n"
   ]
  },
  {
   "cell_type": "code",
   "execution_count": 1,
   "id": "e2764197-9755-4a80-9fc2-1d0b98b1c720",
   "metadata": {},
   "outputs": [
    {
     "ename": "SyntaxError",
     "evalue": "invalid syntax (1829914851.py, line 5)",
     "output_type": "error",
     "traceback": [
      "\u001b[1;36m  Cell \u001b[1;32mIn[1], line 5\u001b[1;36m\u001b[0m\n\u001b[1;33m    pydoc c2f\u001b[0m\n\u001b[1;37m          ^\u001b[0m\n\u001b[1;31mSyntaxError\u001b[0m\u001b[1;31m:\u001b[0m invalid syntax\n"
     ]
    }
   ],
   "source": [
    "# Adding comments using pydoc\n",
    "# help takes comments from pydoc\n",
    "\n",
    "\"\"\" I am a comment \"\"\"\n",
    "\n",
    "pydoc c2f\n",
    "pydoc -w cef\n",
    "open c2f.html"
   ]
  },
  {
   "cell_type": "markdown",
   "id": "41134bda-c0a2-4183-af70-7a5f9c8c1b28",
   "metadata": {},
   "source": [
    "Modules can be used by inmport or from\n",
    "\n",
    "From x import func\n",
    "\n"
   ]
  },
  {
   "cell_type": "code",
   "execution_count": 4,
   "id": "3250c34d-97cf-4d54-8dab-025e6e159f9b",
   "metadata": {},
   "outputs": [
    {
     "name": "stdout",
     "output_type": "stream",
     "text": [
      "Help on module imperial_to_metric:\n",
      "\n",
      "NAME\n",
      "    imperial_to_metric - imperial to metric conversions\n",
      "\n",
      "FUNCTIONS\n",
      "    meters_to_yards(meters)\n",
      "        Convert meters into yards\n",
      "    \n",
      "    yards_to_meters(yards)\n",
      "        Converts yards into meters.\n",
      "\n",
      "FILE\n",
      "    c:\\jupyter\\cs5901\\imperial_to_metric.py\n",
      "\n",
      "\n"
     ]
    },
    {
     "data": {
      "text/plain": [
       "5.46805"
      ]
     },
     "execution_count": 4,
     "metadata": {},
     "output_type": "execute_result"
    }
   ],
   "source": [
    "import imperial_to_metric\n",
    "\n",
    "help(imperial_to_metric)\n",
    "\n",
    "imperial_to_metric.meters_to_yards(5)"
   ]
  },
  {
   "cell_type": "markdown",
   "id": "1416ea13-cf29-4e8e-9177-822b219ca111",
   "metadata": {},
   "source": [
    "## Classes\n",
    "\n",
    "CamelCase for class names\n",
    "snake case for functions and methods\n"
   ]
  },
  {
   "cell_type": "code",
   "execution_count": 8,
   "id": "224f0594-5d28-46c5-ab78-34f1377d3269",
   "metadata": {},
   "outputs": [
    {
     "name": "stdout",
     "output_type": "stream",
     "text": [
      "Name: Nick\n",
      "Date of birth: 29/11/78\n",
      "Modules: \n",
      "cs2455\n",
      "cs634345\n",
      "cs44356\n",
      "Address: address\n",
      "Name: Nick\n",
      "Date of birth: 29/11/78\n",
      "Modules: \n",
      "cs2455\n",
      "cs634345\n",
      "cs44356\n",
      "Address: address\n"
     ]
    }
   ],
   "source": [
    "class Student:\n",
    "    \"\"\" Class to hold student info \"\"\"\n",
    "    def __init__(self, name, date_of_birth, modules_codes):\n",
    "        self.name = name\n",
    "        self.dob = date_of_birth\n",
    "        self.mods = modules_codes\n",
    "\n",
    "    def __str__ (self):\n",
    "        return self.print_details()\n",
    "\n",
    "        \n",
    "    def print_details(self):\n",
    "        \"\"\" print the student details \"\"\"\n",
    "\n",
    "        text = \"Name: \"+self.name+'\\n'\n",
    "        text += \"Date of birth: \"+self.dob + '\\n'\n",
    "        text += \"Modules: \\n\"\n",
    "        for mod in self.mods:\n",
    "           text += mod +\"\\n\" \n",
    "        return text    \n",
    "\n",
    "\n",
    "class OnlineStudent(Student):\n",
    "\n",
    "    def __init__ (self,  name, date_of_birth, modules_codes, address):\n",
    "        self.address = address\n",
    "        Student.__init__(self, name, date_of_birth, modules_codes)\n",
    "\n",
    "    def print_address(self):\n",
    "        return self.address\n",
    "\n",
    "    def print_details(self):\n",
    "        \"\"\" print the student details \"\"\"\n",
    "\n",
    "        text = \"Name: \"+self.name+'\\n'\n",
    "        text += \"Date of birth: \"+self.dob + '\\n'\n",
    "        text += \"Modules: \\n\"\n",
    "        for mod in self.mods:\n",
    "           text += mod +\"\\n\"\n",
    "        text += \"Address: \"+ self.address\n",
    "        return text    \n",
    "\n",
    "\n",
    "\n",
    "# me = Student(\"Nick\",\"29/11/78\",(\"cs2455\",\"cs634345\",\"cs44356\"))\n",
    "me = OnlineStudent(\"Nick\",\"29/11/78\",(\"cs2455\",\"cs634345\",\"cs44356\"),\"address\")\n",
    "print(me.print_details())\n",
    "print(me)\n",
    "\n",
    "\n",
    "\n",
    "\n",
    "\n"
   ]
  },
  {
   "cell_type": "markdown",
   "id": "99977bcd-c6e2-4946-ae05-ffee0d37931a",
   "metadata": {},
   "source": [
    "## More about classes"
   ]
  },
  {
   "cell_type": "code",
   "execution_count": null,
   "id": "c26fd6b5-7c02-4e5e-9944-58e88feeb6f7",
   "metadata": {},
   "outputs": [],
   "source": [
    "__str__  = overwrite print\n",
    "__repe__ = overwite echo \n",
    "pass = do nothing\n",
    "int var to local scope\n"
   ]
  },
  {
   "cell_type": "markdown",
   "id": "77b5854b-9c0f-401a-8d74-2713cc9996db",
   "metadata": {},
   "source": [
    "## Making files executable"
   ]
  },
  {
   "cell_type": "markdown",
   "id": "f38dc77b-777e-4c59-b907-e214b0505668",
   "metadata": {},
   "source": [
    "add: #!/uer/bin/env python\n",
    "\n",
    "def main()\n",
    "\n",
    "if calling as an exe\n",
    "if __main__ == \"__main\"__\n",
    "    mmain()\n",
    "\n",
    "### arguments\n",
    "\n",
    "using import sys\n",
    "argv = input vars\n"
   ]
  }
 ],
 "metadata": {
  "kernelspec": {
   "display_name": "Python 3 (ipykernel)",
   "language": "python",
   "name": "python3"
  },
  "language_info": {
   "codemirror_mode": {
    "name": "ipython",
    "version": 3
   },
   "file_extension": ".py",
   "mimetype": "text/x-python",
   "name": "python",
   "nbconvert_exporter": "python",
   "pygments_lexer": "ipython3",
   "version": "3.11.5"
  }
 },
 "nbformat": 4,
 "nbformat_minor": 5
}
