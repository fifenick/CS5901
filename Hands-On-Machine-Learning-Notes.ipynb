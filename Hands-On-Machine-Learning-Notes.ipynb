{
 "cells": [
  {
   "cell_type": "markdown",
   "id": "add60cd7-90e0-4b20-bc6b-4444e01be2d5",
   "metadata": {},
   "source": [
    "## Types of Machine Learning Systems\n",
    "    convolutional neural network\n",
    "    convolutional neural networks CNNs\n",
    "    recurrent neural networks (RNNs)\n",
    "    transformers\n",
    "    Natural language processing (NLP)\n",
    "    natural language understanding\n",
    "    isolation forests\n",
    "    k-means, DBSCAN\n",
    "    reinforcement learning\n",
    "    regression models\n",
    "\n",
    "## supervised, unsupervised, semi-supervised, self-supervised\n",
    "    supervised - includes the desired solutions\n",
    "    unsupervised - training data is unlabeled\n",
    "    semi-supervised - learning algorithms are combinations of unsupervised and supervised algorithms, labels the data as past of the algorithm.\n",
    "    self-supervised - fully labeled dataset from a fully unlabeled one\n",
    "\n",
    "## Reinforcement learning\n",
    "    Get rewards or penalties\n",
    "    Learn by itself what is the best strategy, called a policy, to get the most rewards\n",
    "\n",
    "## online versus batch learning\n",
    "    online learning - you train the system incrementally by feeding it data instances sequentially\n",
    "    batch learning - First the system is trained, and then it is launched into production\n",
    "\n",
    "## instance-based versus model-based learning\n",
    "    model-based learning - training a modal and us it to create predictions.\n",
    "    Instance-based learning - uses examples, creates measure of similarity."
   ]
  },
  {
   "cell_type": "markdown",
   "id": "0f1ca9d1-7f48-4820-b4c0-86f2b696e84a",
   "metadata": {},
   "source": [
    "## Main Challenges of Machine Learning\n",
    "    Insufficient Quantity of Training Data\n",
    "    Nonrepresentative Training Data\n",
    "    Poor-Quality Data\n",
    "    Irrelevant Features\n",
    "    Overfitting the Training Data - Risk of overfitting is called regularization\n",
    "    Underfitting the Training Data\n",
    "\n",
    "## Data Mismatch\n",
    "\n",
    "## Hyperparameter\n",
    "Regularization to apply during learning can be controlled by a hyperparameter. Controls the degrees of freedom an algorithm has.\n"
   ]
  },
  {
   "cell_type": "markdown",
   "id": "34c78a2a-fd8d-46f2-a5f5-e2956fa0b15f",
   "metadata": {},
   "source": [
    "## Testing and Validating"
   ]
  },
  {
   "cell_type": "markdown",
   "id": "7321bcab-5dc1-4a52-9ecc-9a3981fcb88e",
   "metadata": {},
   "source": [
    "## Select a Performance Measure\n",
    "Both the RMSE and the MAE are ways to measure the distance between two vectors: the vector of predictions and the vector of target values. Various distance measures, or norms, are possible:\n",
    "\n",
    "Root mean square error (RMSE) - Although the RMSE is generally the preferred performance measure for regression tasks, in some contexts you may prefer to use another function. For example, if there are many outlier districts. \n",
    "\n",
    "Mean absolute error (MAE)"
   ]
  },
  {
   "cell_type": "code",
   "execution_count": null,
   "id": "70fbb0d3-bc2b-4153-84f9-57ade9b7d9db",
   "metadata": {},
   "outputs": [],
   "source": [
    "It is important to have a sufficient number of instances in your dataset for each stratum"
   ]
  }
 ],
 "metadata": {
  "kernelspec": {
   "display_name": "Python 3 (ipykernel)",
   "language": "python",
   "name": "python3"
  },
  "language_info": {
   "codemirror_mode": {
    "name": "ipython",
    "version": 3
   },
   "file_extension": ".py",
   "mimetype": "text/x-python",
   "name": "python",
   "nbconvert_exporter": "python",
   "pygments_lexer": "ipython3",
   "version": "3.11.5"
  }
 },
 "nbformat": 4,
 "nbformat_minor": 5
}
